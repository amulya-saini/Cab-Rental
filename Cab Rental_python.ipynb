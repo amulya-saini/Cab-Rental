{
 "cells": [
  {
   "cell_type": "code",
   "execution_count": 1,
   "metadata": {},
   "outputs": [
    {
     "name": "stderr",
     "output_type": "stream",
     "text": [
      "Using TensorFlow backend.\n"
     ]
    }
   ],
   "source": [
    "#loading necessary libraries\n",
    "import os\n",
    "import pandas as pd\n",
    "import numpy as np\n",
    "import matplotlib.pyplot as plt\n",
    "import seaborn as sns\n",
    "from fancyimpute import KNN\n",
    "from scipy import stats\n",
    "from sklearn.metrics import r2_score\n",
    "%matplotlib inline"
   ]
  },
  {
   "cell_type": "code",
   "execution_count": 3,
   "metadata": {},
   "outputs": [],
   "source": [
    "#loading data\n",
    "cab_train = pd.read_csv('train_cab.csv')\n",
    "cab_test = pd.read_csv('test.csv')"
   ]
  },
  {
   "cell_type": "markdown",
   "metadata": {},
   "source": [
    "## Understanding the data and Exploratory Data Analysis\n",
    "To know the basic understanding of the dataset such as shape, data types, uniques values, missing value analysis, to understand the basic statistics of each variable and all the pre-processing techniques."
   ]
  },
  {
   "cell_type": "code",
   "execution_count": 4,
   "metadata": {},
   "outputs": [
    {
     "name": "stdout",
     "output_type": "stream",
     "text": [
      "(16067, 7)\n",
      "(9914, 6)\n"
     ]
    }
   ],
   "source": [
    "#Shape of the data\n",
    "print(cab_train.shape) #(16067,7)\n",
    "print(cab_test.shape) #(9914,6)"
   ]
  },
  {
   "cell_type": "code",
   "execution_count": 5,
   "metadata": {},
   "outputs": [
    {
     "data": {
      "text/html": [
       "<div>\n",
       "<style scoped>\n",
       "    .dataframe tbody tr th:only-of-type {\n",
       "        vertical-align: middle;\n",
       "    }\n",
       "\n",
       "    .dataframe tbody tr th {\n",
       "        vertical-align: top;\n",
       "    }\n",
       "\n",
       "    .dataframe thead th {\n",
       "        text-align: right;\n",
       "    }\n",
       "</style>\n",
       "<table border=\"1\" class=\"dataframe\">\n",
       "  <thead>\n",
       "    <tr style=\"text-align: right;\">\n",
       "      <th></th>\n",
       "      <th>fare_amount</th>\n",
       "      <th>pickup_datetime</th>\n",
       "      <th>pickup_longitude</th>\n",
       "      <th>pickup_latitude</th>\n",
       "      <th>dropoff_longitude</th>\n",
       "      <th>dropoff_latitude</th>\n",
       "      <th>passenger_count</th>\n",
       "    </tr>\n",
       "  </thead>\n",
       "  <tbody>\n",
       "    <tr>\n",
       "      <th>0</th>\n",
       "      <td>4.5</td>\n",
       "      <td>2009-06-15 17:26:21 UTC</td>\n",
       "      <td>-73.844311</td>\n",
       "      <td>40.721319</td>\n",
       "      <td>-73.841610</td>\n",
       "      <td>40.712278</td>\n",
       "      <td>1.0</td>\n",
       "    </tr>\n",
       "    <tr>\n",
       "      <th>1</th>\n",
       "      <td>16.9</td>\n",
       "      <td>2010-01-05 16:52:16 UTC</td>\n",
       "      <td>-74.016048</td>\n",
       "      <td>40.711303</td>\n",
       "      <td>-73.979268</td>\n",
       "      <td>40.782004</td>\n",
       "      <td>1.0</td>\n",
       "    </tr>\n",
       "    <tr>\n",
       "      <th>2</th>\n",
       "      <td>5.7</td>\n",
       "      <td>2011-08-18 00:35:00 UTC</td>\n",
       "      <td>-73.982738</td>\n",
       "      <td>40.761270</td>\n",
       "      <td>-73.991242</td>\n",
       "      <td>40.750562</td>\n",
       "      <td>2.0</td>\n",
       "    </tr>\n",
       "    <tr>\n",
       "      <th>3</th>\n",
       "      <td>7.7</td>\n",
       "      <td>2012-04-21 04:30:42 UTC</td>\n",
       "      <td>-73.987130</td>\n",
       "      <td>40.733143</td>\n",
       "      <td>-73.991567</td>\n",
       "      <td>40.758092</td>\n",
       "      <td>1.0</td>\n",
       "    </tr>\n",
       "    <tr>\n",
       "      <th>4</th>\n",
       "      <td>5.3</td>\n",
       "      <td>2010-03-09 07:51:00 UTC</td>\n",
       "      <td>-73.968095</td>\n",
       "      <td>40.768008</td>\n",
       "      <td>-73.956655</td>\n",
       "      <td>40.783762</td>\n",
       "      <td>1.0</td>\n",
       "    </tr>\n",
       "  </tbody>\n",
       "</table>\n",
       "</div>"
      ],
      "text/plain": [
       "  fare_amount          pickup_datetime  pickup_longitude  pickup_latitude  \\\n",
       "0         4.5  2009-06-15 17:26:21 UTC        -73.844311        40.721319   \n",
       "1        16.9  2010-01-05 16:52:16 UTC        -74.016048        40.711303   \n",
       "2         5.7  2011-08-18 00:35:00 UTC        -73.982738        40.761270   \n",
       "3         7.7  2012-04-21 04:30:42 UTC        -73.987130        40.733143   \n",
       "4         5.3  2010-03-09 07:51:00 UTC        -73.968095        40.768008   \n",
       "\n",
       "   dropoff_longitude  dropoff_latitude  passenger_count  \n",
       "0         -73.841610         40.712278              1.0  \n",
       "1         -73.979268         40.782004              1.0  \n",
       "2         -73.991242         40.750562              2.0  \n",
       "3         -73.991567         40.758092              1.0  \n",
       "4         -73.956655         40.783762              1.0  "
      ]
     },
     "execution_count": 5,
     "metadata": {},
     "output_type": "execute_result"
    }
   ],
   "source": [
    "#First five rows of our train data\n",
    "cab_train.head()"
   ]
  },
  {
   "cell_type": "code",
   "execution_count": 6,
   "metadata": {},
   "outputs": [
    {
     "data": {
      "text/html": [
       "<div>\n",
       "<style scoped>\n",
       "    .dataframe tbody tr th:only-of-type {\n",
       "        vertical-align: middle;\n",
       "    }\n",
       "\n",
       "    .dataframe tbody tr th {\n",
       "        vertical-align: top;\n",
       "    }\n",
       "\n",
       "    .dataframe thead th {\n",
       "        text-align: right;\n",
       "    }\n",
       "</style>\n",
       "<table border=\"1\" class=\"dataframe\">\n",
       "  <thead>\n",
       "    <tr style=\"text-align: right;\">\n",
       "      <th></th>\n",
       "      <th>pickup_datetime</th>\n",
       "      <th>pickup_longitude</th>\n",
       "      <th>pickup_latitude</th>\n",
       "      <th>dropoff_longitude</th>\n",
       "      <th>dropoff_latitude</th>\n",
       "      <th>passenger_count</th>\n",
       "    </tr>\n",
       "  </thead>\n",
       "  <tbody>\n",
       "    <tr>\n",
       "      <th>0</th>\n",
       "      <td>2015-01-27 13:08:24 UTC</td>\n",
       "      <td>-73.973320</td>\n",
       "      <td>40.763805</td>\n",
       "      <td>-73.981430</td>\n",
       "      <td>40.743835</td>\n",
       "      <td>1</td>\n",
       "    </tr>\n",
       "    <tr>\n",
       "      <th>1</th>\n",
       "      <td>2015-01-27 13:08:24 UTC</td>\n",
       "      <td>-73.986862</td>\n",
       "      <td>40.719383</td>\n",
       "      <td>-73.998886</td>\n",
       "      <td>40.739201</td>\n",
       "      <td>1</td>\n",
       "    </tr>\n",
       "    <tr>\n",
       "      <th>2</th>\n",
       "      <td>2011-10-08 11:53:44 UTC</td>\n",
       "      <td>-73.982524</td>\n",
       "      <td>40.751260</td>\n",
       "      <td>-73.979654</td>\n",
       "      <td>40.746139</td>\n",
       "      <td>1</td>\n",
       "    </tr>\n",
       "    <tr>\n",
       "      <th>3</th>\n",
       "      <td>2012-12-01 21:12:12 UTC</td>\n",
       "      <td>-73.981160</td>\n",
       "      <td>40.767807</td>\n",
       "      <td>-73.990448</td>\n",
       "      <td>40.751635</td>\n",
       "      <td>1</td>\n",
       "    </tr>\n",
       "    <tr>\n",
       "      <th>4</th>\n",
       "      <td>2012-12-01 21:12:12 UTC</td>\n",
       "      <td>-73.966046</td>\n",
       "      <td>40.789775</td>\n",
       "      <td>-73.988565</td>\n",
       "      <td>40.744427</td>\n",
       "      <td>1</td>\n",
       "    </tr>\n",
       "  </tbody>\n",
       "</table>\n",
       "</div>"
      ],
      "text/plain": [
       "           pickup_datetime  pickup_longitude  pickup_latitude  \\\n",
       "0  2015-01-27 13:08:24 UTC        -73.973320        40.763805   \n",
       "1  2015-01-27 13:08:24 UTC        -73.986862        40.719383   \n",
       "2  2011-10-08 11:53:44 UTC        -73.982524        40.751260   \n",
       "3  2012-12-01 21:12:12 UTC        -73.981160        40.767807   \n",
       "4  2012-12-01 21:12:12 UTC        -73.966046        40.789775   \n",
       "\n",
       "   dropoff_longitude  dropoff_latitude  passenger_count  \n",
       "0         -73.981430         40.743835                1  \n",
       "1         -73.998886         40.739201                1  \n",
       "2         -73.979654         40.746139                1  \n",
       "3         -73.990448         40.751635                1  \n",
       "4         -73.988565         40.744427                1  "
      ]
     },
     "execution_count": 6,
     "metadata": {},
     "output_type": "execute_result"
    }
   ],
   "source": [
    "#First five rows of our test data\n",
    "cab_test.head()"
   ]
  },
  {
   "cell_type": "code",
   "execution_count": 7,
   "metadata": {},
   "outputs": [
    {
     "data": {
      "text/plain": [
       "fare_amount            468\n",
       "pickup_datetime      16021\n",
       "pickup_longitude     13789\n",
       "pickup_latitude      14241\n",
       "dropoff_longitude    13887\n",
       "dropoff_latitude     14263\n",
       "passenger_count         27\n",
       "dtype: int64"
      ]
     },
     "execution_count": 7,
     "metadata": {},
     "output_type": "execute_result"
    }
   ],
   "source": [
    "#Number of Unique values in train data\n",
    "cab_train.nunique()"
   ]
  },
  {
   "cell_type": "code",
   "execution_count": 8,
   "metadata": {},
   "outputs": [
    {
     "data": {
      "text/plain": [
       "fare_amount          24\n",
       "pickup_datetime       0\n",
       "pickup_longitude      0\n",
       "pickup_latitude       0\n",
       "dropoff_longitude     0\n",
       "dropoff_latitude      0\n",
       "passenger_count      55\n",
       "dtype: int64"
      ]
     },
     "execution_count": 8,
     "metadata": {},
     "output_type": "execute_result"
    }
   ],
   "source": [
    "#To find the missing values in our dataset\n",
    "cab_train.isna().sum()"
   ]
  },
  {
   "cell_type": "code",
   "execution_count": 9,
   "metadata": {},
   "outputs": [
    {
     "data": {
      "text/plain": [
       "fare_amount           object\n",
       "pickup_datetime       object\n",
       "pickup_longitude     float64\n",
       "pickup_latitude      float64\n",
       "dropoff_longitude    float64\n",
       "dropoff_latitude     float64\n",
       "passenger_count      float64\n",
       "dtype: object"
      ]
     },
     "execution_count": 9,
     "metadata": {},
     "output_type": "execute_result"
    }
   ],
   "source": [
    "#To know the data types in train dataset\n",
    "cab_train.dtypes\n",
    "\n",
    "#Fare_amount should be float\n",
    "#pickup_datetime should be a date type\n",
    "#passenger_count should be an integer type"
   ]
  },
  {
   "cell_type": "code",
   "execution_count": 10,
   "metadata": {},
   "outputs": [
    {
     "data": {
      "text/plain": [
       "pickup_datetime       object\n",
       "pickup_longitude     float64\n",
       "pickup_latitude      float64\n",
       "dropoff_longitude    float64\n",
       "dropoff_latitude     float64\n",
       "passenger_count        int64\n",
       "dtype: object"
      ]
     },
     "execution_count": 10,
     "metadata": {},
     "output_type": "execute_result"
    }
   ],
   "source": [
    "#To know the data types in test dataset\n",
    "cab_test.dtypes\n",
    "\n",
    "#pickup_datetime should be a date type"
   ]
  },
  {
   "cell_type": "markdown",
   "metadata": {},
   "source": [
    "A few observations from the datasets\n",
    "   * `pickup_datetime` should be converted to date type using pandas\n",
    "   * `passenger_count` should be an int type and any data point less than 1 and greater than 6 can be removed/imputed\n",
    "   * `fare_amount` should be a float type and any data point less than 0 can be removed/imputed\n",
    "   * `pickup_latitude` and `dropoff_latitude` should have values in between -90 to +90 degrees and data point beyond these     values can be removed\n",
    "   * `pickup_longitude` and `dropoff_longitude` should have values in between -180 to +180 degrees and data point beyond these     values can be removed\n",
    "   * By using the co-ordinates of latitude and longitude, we can find the distance between pickup and drop locations\n",
    "   * After the above steps, we'll try to drop a few variables and data types are to properly converted"
   ]
  },
  {
   "cell_type": "code",
   "execution_count": 11,
   "metadata": {},
   "outputs": [],
   "source": [
    "#Convert the data types\n",
    "cab_train['fare_amount'] = pd.to_numeric(cab_train['fare_amount'] , errors = 'coerce')\n",
    "#By using errors parameter with corece value, we can replace non-numeric values with NaN values"
   ]
  },
  {
   "cell_type": "markdown",
   "metadata": {},
   "source": [
    "To convert the `pickup_datetime` to datetime format and to separate year,month and date etc.\n",
    "While trying to convert `pickup_datetime` it was found that value at index# 1327 is 43, which is to be dropped."
   ]
  },
  {
   "cell_type": "code",
   "execution_count": 12,
   "metadata": {},
   "outputs": [],
   "source": [
    "np.where(cab_train['pickup_datetime'] == '43')\n",
    "cab_train.iloc[1327,:]\n",
    "cab_train = cab_train.drop(cab_train.index[1327])"
   ]
  },
  {
   "cell_type": "code",
   "execution_count": 13,
   "metadata": {},
   "outputs": [],
   "source": [
    "#To convert the pickup_datetime to datetime format and separating year,month and date etc.\n",
    "cab_train['pickup_datetime'] = pd.to_datetime(cab_train['pickup_datetime'], format = \"%Y-%m-%d %H:%M:%S UTC\")"
   ]
  },
  {
   "cell_type": "code",
   "execution_count": 14,
   "metadata": {},
   "outputs": [
    {
     "data": {
      "text/plain": [
       "fare_amount                 float64\n",
       "pickup_datetime      datetime64[ns]\n",
       "pickup_longitude            float64\n",
       "pickup_latitude             float64\n",
       "dropoff_longitude           float64\n",
       "dropoff_latitude            float64\n",
       "passenger_count             float64\n",
       "dtype: object"
      ]
     },
     "execution_count": 14,
     "metadata": {},
     "output_type": "execute_result"
    }
   ],
   "source": [
    "#To check the data types\n",
    "cab_train.dtypes"
   ]
  },
  {
   "cell_type": "code",
   "execution_count": 15,
   "metadata": {},
   "outputs": [],
   "source": [
    "#Creating new features such as year, month, date etc. based on the timestamp \n",
    "cab_train['year'] = cab_train['pickup_datetime'].dt.year\n",
    "cab_train['Month'] = cab_train['pickup_datetime'].dt.month\n",
    "cab_train['Date'] = cab_train['pickup_datetime'].dt.day\n",
    "cab_train['Day'] = cab_train['pickup_datetime'].dt.dayofweek\n",
    "cab_train['Hour'] = cab_train['pickup_datetime'].dt.hour"
   ]
  },
  {
   "cell_type": "code",
   "execution_count": 16,
   "metadata": {},
   "outputs": [
    {
     "data": {
      "text/html": [
       "<div>\n",
       "<style scoped>\n",
       "    .dataframe tbody tr th:only-of-type {\n",
       "        vertical-align: middle;\n",
       "    }\n",
       "\n",
       "    .dataframe tbody tr th {\n",
       "        vertical-align: top;\n",
       "    }\n",
       "\n",
       "    .dataframe thead th {\n",
       "        text-align: right;\n",
       "    }\n",
       "</style>\n",
       "<table border=\"1\" class=\"dataframe\">\n",
       "  <thead>\n",
       "    <tr style=\"text-align: right;\">\n",
       "      <th></th>\n",
       "      <th>fare_amount</th>\n",
       "      <th>pickup_datetime</th>\n",
       "      <th>pickup_longitude</th>\n",
       "      <th>pickup_latitude</th>\n",
       "      <th>dropoff_longitude</th>\n",
       "      <th>dropoff_latitude</th>\n",
       "      <th>passenger_count</th>\n",
       "      <th>year</th>\n",
       "      <th>Month</th>\n",
       "      <th>Date</th>\n",
       "      <th>Day</th>\n",
       "      <th>Hour</th>\n",
       "    </tr>\n",
       "  </thead>\n",
       "  <tbody>\n",
       "    <tr>\n",
       "      <th>0</th>\n",
       "      <td>4.5</td>\n",
       "      <td>2009-06-15 17:26:21</td>\n",
       "      <td>-73.844311</td>\n",
       "      <td>40.721319</td>\n",
       "      <td>-73.841610</td>\n",
       "      <td>40.712278</td>\n",
       "      <td>1.0</td>\n",
       "      <td>2009</td>\n",
       "      <td>6</td>\n",
       "      <td>15</td>\n",
       "      <td>0</td>\n",
       "      <td>17</td>\n",
       "    </tr>\n",
       "    <tr>\n",
       "      <th>1</th>\n",
       "      <td>16.9</td>\n",
       "      <td>2010-01-05 16:52:16</td>\n",
       "      <td>-74.016048</td>\n",
       "      <td>40.711303</td>\n",
       "      <td>-73.979268</td>\n",
       "      <td>40.782004</td>\n",
       "      <td>1.0</td>\n",
       "      <td>2010</td>\n",
       "      <td>1</td>\n",
       "      <td>5</td>\n",
       "      <td>1</td>\n",
       "      <td>16</td>\n",
       "    </tr>\n",
       "    <tr>\n",
       "      <th>2</th>\n",
       "      <td>5.7</td>\n",
       "      <td>2011-08-18 00:35:00</td>\n",
       "      <td>-73.982738</td>\n",
       "      <td>40.761270</td>\n",
       "      <td>-73.991242</td>\n",
       "      <td>40.750562</td>\n",
       "      <td>2.0</td>\n",
       "      <td>2011</td>\n",
       "      <td>8</td>\n",
       "      <td>18</td>\n",
       "      <td>3</td>\n",
       "      <td>0</td>\n",
       "    </tr>\n",
       "    <tr>\n",
       "      <th>3</th>\n",
       "      <td>7.7</td>\n",
       "      <td>2012-04-21 04:30:42</td>\n",
       "      <td>-73.987130</td>\n",
       "      <td>40.733143</td>\n",
       "      <td>-73.991567</td>\n",
       "      <td>40.758092</td>\n",
       "      <td>1.0</td>\n",
       "      <td>2012</td>\n",
       "      <td>4</td>\n",
       "      <td>21</td>\n",
       "      <td>5</td>\n",
       "      <td>4</td>\n",
       "    </tr>\n",
       "    <tr>\n",
       "      <th>4</th>\n",
       "      <td>5.3</td>\n",
       "      <td>2010-03-09 07:51:00</td>\n",
       "      <td>-73.968095</td>\n",
       "      <td>40.768008</td>\n",
       "      <td>-73.956655</td>\n",
       "      <td>40.783762</td>\n",
       "      <td>1.0</td>\n",
       "      <td>2010</td>\n",
       "      <td>3</td>\n",
       "      <td>9</td>\n",
       "      <td>1</td>\n",
       "      <td>7</td>\n",
       "    </tr>\n",
       "  </tbody>\n",
       "</table>\n",
       "</div>"
      ],
      "text/plain": [
       "   fare_amount     pickup_datetime  pickup_longitude  pickup_latitude  \\\n",
       "0          4.5 2009-06-15 17:26:21        -73.844311        40.721319   \n",
       "1         16.9 2010-01-05 16:52:16        -74.016048        40.711303   \n",
       "2          5.7 2011-08-18 00:35:00        -73.982738        40.761270   \n",
       "3          7.7 2012-04-21 04:30:42        -73.987130        40.733143   \n",
       "4          5.3 2010-03-09 07:51:00        -73.968095        40.768008   \n",
       "\n",
       "   dropoff_longitude  dropoff_latitude  passenger_count  year  Month  Date  \\\n",
       "0         -73.841610         40.712278              1.0  2009      6    15   \n",
       "1         -73.979268         40.782004              1.0  2010      1     5   \n",
       "2         -73.991242         40.750562              2.0  2011      8    18   \n",
       "3         -73.991567         40.758092              1.0  2012      4    21   \n",
       "4         -73.956655         40.783762              1.0  2010      3     9   \n",
       "\n",
       "   Day  Hour  \n",
       "0    0    17  \n",
       "1    1    16  \n",
       "2    3     0  \n",
       "3    5     4  \n",
       "4    1     7  "
      ]
     },
     "execution_count": 16,
     "metadata": {},
     "output_type": "execute_result"
    }
   ],
   "source": [
    "#To check top 5 rows of the data\n",
    "cab_train.head()"
   ]
  },
  {
   "cell_type": "code",
   "execution_count": 17,
   "metadata": {},
   "outputs": [],
   "source": [
    "#To convert the pickup_datetime for test data to datetime format and separating year,month and date etc.\n",
    "cab_test['pickup_datetime'] = pd.to_datetime(cab_test['pickup_datetime'], format = \"%Y-%m-%d %H:%M:%S UTC\")"
   ]
  },
  {
   "cell_type": "code",
   "execution_count": 18,
   "metadata": {},
   "outputs": [],
   "source": [
    "#Creating new features such as year, month and date etc based on datetime for test data\n",
    "cab_test['year'] = cab_test['pickup_datetime'].dt.year\n",
    "cab_test['Month'] = cab_test['pickup_datetime'].dt.month\n",
    "cab_test['Date'] = cab_test['pickup_datetime'].dt.day\n",
    "cab_test['Day'] = cab_test['pickup_datetime'].dt.dayofweek\n",
    "cab_test['Hour'] = cab_test['pickup_datetime'].dt.hour"
   ]
  },
  {
   "cell_type": "markdown",
   "metadata": {},
   "source": [
    "* As of now `pickup_datetime` in `cab_train` dataset is cleaned and now let's check with the `passenger_count`\n",
    "* Any data point with values < 1 and > 6 in `passenger_count` are to be removed"
   ]
  },
  {
   "cell_type": "code",
   "execution_count": 19,
   "metadata": {},
   "outputs": [],
   "source": [
    "#Let's remove the values in passenger_count variable with the values < 1 and > 6\n",
    "cab_train = cab_train.drop(cab_train[cab_train['passenger_count'] < 1].index , axis = 0)\n",
    "cab_train = cab_train.drop(cab_train[cab_train['passenger_count'] > 6].index , axis = 0)"
   ]
  },
  {
   "cell_type": "code",
   "execution_count": 20,
   "metadata": {},
   "outputs": [
    {
     "data": {
      "text/plain": [
       "0"
      ]
     },
     "execution_count": 20,
     "metadata": {},
     "output_type": "execute_result"
    }
   ],
   "source": [
    "#To check if any missing values in passenger_count and delete them if they are less in number(55 we found)\n",
    "cab_train['passenger_count'].isnull().sum()\n",
    "#To remove missing values or null values from passenger_count variable\n",
    "cab_train = cab_train.drop(cab_train[cab_train['passenger_count'].isnull()].index , axis = 0)\n",
    "cab_train['passenger_count'].isnull().sum()"
   ]
  },
  {
   "cell_type": "code",
   "execution_count": 21,
   "metadata": {},
   "outputs": [],
   "source": [
    "#Let's remove the values in passenger_count variable with the values < 1 and > 6 in test data also and found no null values\n",
    "cab_test = cab_test.drop(cab_test[cab_test['passenger_count'] < 1].index , axis = 0)\n",
    "cab_test = cab_test.drop(cab_test[cab_test['passenger_count'] > 6].index , axis = 0)"
   ]
  },
  {
   "cell_type": "code",
   "execution_count": 22,
   "metadata": {},
   "outputs": [],
   "source": [
    "#Let's check for the fair_amount variable and any negative values should be removed/imputed\n",
    "cab_train = cab_train.drop(cab_train[cab_train['fare_amount'] < 0].index, axis = 0)"
   ]
  },
  {
   "cell_type": "code",
   "execution_count": 23,
   "metadata": {},
   "outputs": [],
   "source": [
    "#We found that we have 24 missing values in fare_amount variable. As this is a less number, we can remove them\n",
    "cab_train.isnull().sum()\n",
    "cab_train = cab_train.drop(cab_train[cab_train['fare_amount'].isnull()].index, axis = 0)"
   ]
  },
  {
   "cell_type": "markdown",
   "metadata": {},
   "source": [
    "By using the the four variables, `pickup_longitude`, `pickup_latitude`,\t`dropoff_longitude`, `dropoff_latitude` let's try to find the distance travelled. The usual procedure is to find with Haversine's formula, but let us try with different methods."
   ]
  },
  {
   "cell_type": "code",
   "execution_count": 24,
   "metadata": {},
   "outputs": [],
   "source": [
    "# We have found one value in pickup_latitude > 90, (401...) so let's drop that observation\n",
    "\n",
    "cab_train = cab_train.drop(cab_train[cab_train['pickup_latitude'] > 90].index, axis = 0)"
   ]
  },
  {
   "cell_type": "code",
   "execution_count": 25,
   "metadata": {},
   "outputs": [],
   "source": [
    "#To find the distance travelled using latitudes and longitudes\n",
    "from geopy.distance import geodesic\n",
    "\n",
    "def distance_conversion(x):\n",
    "    origin_lat = x[0]\n",
    "    origin_long = x[1]\n",
    "    dest_lat = x[2]\n",
    "    dest_long = x[3]\n",
    "    origin = [origin_lat,origin_long]\n",
    "    dest = [dest_lat,dest_long]\n",
    "    distance = geodesic(origin, dest).kilometers\n",
    "    return distance\n",
    "\n",
    "#distance_conversion(40.721319,-73.844311,40.712278,-73.841610)\n",
    "#distance_conversion(40.711303,-74.016048,40.782004,-73.979268)\n",
    "\n",
    "#Let's create a variable \"distance_travelled\" and try to find it's values using the above function in both the datasets\n",
    "\n",
    "cab_train['distance_travelled'] = cab_train[['pickup_latitude','pickup_longitude','dropoff_latitude','dropoff_longitude']].apply(distance_conversion,axis=1)\n",
    "cab_test['distance_travelled'] = cab_test[['pickup_latitude','pickup_longitude','dropoff_latitude','dropoff_longitude']].apply(distance_conversion,axis=1)"
   ]
  },
  {
   "cell_type": "code",
   "execution_count": 26,
   "metadata": {},
   "outputs": [
    {
     "data": {
      "text/html": [
       "<div>\n",
       "<style scoped>\n",
       "    .dataframe tbody tr th:only-of-type {\n",
       "        vertical-align: middle;\n",
       "    }\n",
       "\n",
       "    .dataframe tbody tr th {\n",
       "        vertical-align: top;\n",
       "    }\n",
       "\n",
       "    .dataframe thead th {\n",
       "        text-align: right;\n",
       "    }\n",
       "</style>\n",
       "<table border=\"1\" class=\"dataframe\">\n",
       "  <thead>\n",
       "    <tr style=\"text-align: right;\">\n",
       "      <th></th>\n",
       "      <th>pickup_datetime</th>\n",
       "      <th>pickup_longitude</th>\n",
       "      <th>pickup_latitude</th>\n",
       "      <th>dropoff_longitude</th>\n",
       "      <th>dropoff_latitude</th>\n",
       "      <th>passenger_count</th>\n",
       "      <th>year</th>\n",
       "      <th>Month</th>\n",
       "      <th>Date</th>\n",
       "      <th>Day</th>\n",
       "      <th>Hour</th>\n",
       "      <th>distance_travelled</th>\n",
       "    </tr>\n",
       "  </thead>\n",
       "  <tbody>\n",
       "    <tr>\n",
       "      <th>0</th>\n",
       "      <td>2015-01-27 13:08:24</td>\n",
       "      <td>-73.973320</td>\n",
       "      <td>40.763805</td>\n",
       "      <td>-73.981430</td>\n",
       "      <td>40.743835</td>\n",
       "      <td>1</td>\n",
       "      <td>2015</td>\n",
       "      <td>1</td>\n",
       "      <td>27</td>\n",
       "      <td>1</td>\n",
       "      <td>13</td>\n",
       "      <td>2.320991</td>\n",
       "    </tr>\n",
       "    <tr>\n",
       "      <th>1</th>\n",
       "      <td>2015-01-27 13:08:24</td>\n",
       "      <td>-73.986862</td>\n",
       "      <td>40.719383</td>\n",
       "      <td>-73.998886</td>\n",
       "      <td>40.739201</td>\n",
       "      <td>1</td>\n",
       "      <td>2015</td>\n",
       "      <td>1</td>\n",
       "      <td>27</td>\n",
       "      <td>1</td>\n",
       "      <td>13</td>\n",
       "      <td>2.423802</td>\n",
       "    </tr>\n",
       "    <tr>\n",
       "      <th>2</th>\n",
       "      <td>2011-10-08 11:53:44</td>\n",
       "      <td>-73.982524</td>\n",
       "      <td>40.751260</td>\n",
       "      <td>-73.979654</td>\n",
       "      <td>40.746139</td>\n",
       "      <td>1</td>\n",
       "      <td>2011</td>\n",
       "      <td>10</td>\n",
       "      <td>8</td>\n",
       "      <td>5</td>\n",
       "      <td>11</td>\n",
       "      <td>0.618182</td>\n",
       "    </tr>\n",
       "    <tr>\n",
       "      <th>3</th>\n",
       "      <td>2012-12-01 21:12:12</td>\n",
       "      <td>-73.981160</td>\n",
       "      <td>40.767807</td>\n",
       "      <td>-73.990448</td>\n",
       "      <td>40.751635</td>\n",
       "      <td>1</td>\n",
       "      <td>2012</td>\n",
       "      <td>12</td>\n",
       "      <td>1</td>\n",
       "      <td>5</td>\n",
       "      <td>21</td>\n",
       "      <td>1.959671</td>\n",
       "    </tr>\n",
       "    <tr>\n",
       "      <th>4</th>\n",
       "      <td>2012-12-01 21:12:12</td>\n",
       "      <td>-73.966046</td>\n",
       "      <td>40.789775</td>\n",
       "      <td>-73.988565</td>\n",
       "      <td>40.744427</td>\n",
       "      <td>1</td>\n",
       "      <td>2012</td>\n",
       "      <td>12</td>\n",
       "      <td>1</td>\n",
       "      <td>5</td>\n",
       "      <td>21</td>\n",
       "      <td>5.382833</td>\n",
       "    </tr>\n",
       "  </tbody>\n",
       "</table>\n",
       "</div>"
      ],
      "text/plain": [
       "      pickup_datetime  pickup_longitude  pickup_latitude  dropoff_longitude  \\\n",
       "0 2015-01-27 13:08:24        -73.973320        40.763805         -73.981430   \n",
       "1 2015-01-27 13:08:24        -73.986862        40.719383         -73.998886   \n",
       "2 2011-10-08 11:53:44        -73.982524        40.751260         -73.979654   \n",
       "3 2012-12-01 21:12:12        -73.981160        40.767807         -73.990448   \n",
       "4 2012-12-01 21:12:12        -73.966046        40.789775         -73.988565   \n",
       "\n",
       "   dropoff_latitude  passenger_count  year  Month  Date  Day  Hour  \\\n",
       "0         40.743835                1  2015      1    27    1    13   \n",
       "1         40.739201                1  2015      1    27    1    13   \n",
       "2         40.746139                1  2011     10     8    5    11   \n",
       "3         40.751635                1  2012     12     1    5    21   \n",
       "4         40.744427                1  2012     12     1    5    21   \n",
       "\n",
       "   distance_travelled  \n",
       "0            2.320991  \n",
       "1            2.423802  \n",
       "2            0.618182  \n",
       "3            1.959671  \n",
       "4            5.382833  "
      ]
     },
     "execution_count": 26,
     "metadata": {},
     "output_type": "execute_result"
    }
   ],
   "source": [
    "#To check a few observations after removing the variables\n",
    "cab_train.head()\n",
    "cab_test.head()"
   ]
  },
  {
   "cell_type": "code",
   "execution_count": 27,
   "metadata": {},
   "outputs": [
    {
     "data": {
      "text/plain": [
       "454"
      ]
     },
     "execution_count": 27,
     "metadata": {},
     "output_type": "execute_result"
    }
   ],
   "source": [
    "#To check the variable distance_travelled whose values are zero and found that 454 observations have value as 0\n",
    "#This will list out the indexes with distance_travelled = 0\n",
    "#cab_train[cab_train['distance_travelled'] == 0].index\n",
    "\n",
    "#Let's replace zeros with NAN values and try to impute them\n",
    "cab_train.loc[cab_train['distance_travelled'] == 0,'distance_travelled'] = np.nan\n",
    "cab_test.loc[cab_test['distance_travelled'] == 0,'distance_travelled'] = np.nan\n",
    "cab_train.isna().sum().sum()"
   ]
  },
  {
   "cell_type": "markdown",
   "metadata": {},
   "source": [
    "Let us drop a few variables for which we don't need them as the necessary information from those variables has been extracted"
   ]
  },
  {
   "cell_type": "code",
   "execution_count": 28,
   "metadata": {},
   "outputs": [],
   "source": [
    "#Dropping the 5 variables as mentioned above\n",
    "var_to_drop = ['pickup_datetime','pickup_longitude', 'pickup_latitude','dropoff_longitude','dropoff_latitude']\n",
    "cab_train = cab_train.drop(var_to_drop, axis = 1)\n",
    "cab_test = cab_test.drop(var_to_drop, axis = 1)"
   ]
  },
  {
   "cell_type": "code",
   "execution_count": 29,
   "metadata": {},
   "outputs": [],
   "source": [
    "#Let's convert a few variables to the required data types in both train and test data\n",
    "cab_train['passenger_count'] = cab_train['passenger_count'].astype('int64')\n",
    "cab_train['Month'] = cab_train['Month'].astype('category')\n",
    "cab_train['Day'] = cab_train['Day'].astype('category')\n",
    "\n",
    "#Convert in test data\n",
    "cab_test['Month'] = cab_test['Month'].astype('category')\n",
    "cab_test['Day'] = cab_test['Day'].astype('category')"
   ]
  },
  {
   "cell_type": "code",
   "execution_count": 30,
   "metadata": {},
   "outputs": [
    {
     "name": "stdout",
     "output_type": "stream",
     "text": [
      "Imputing row 1/15905 with 0 missing, elapsed time: 79.311\n",
      "Imputing row 101/15905 with 0 missing, elapsed time: 79.313\n",
      "Imputing row 201/15905 with 0 missing, elapsed time: 79.314\n",
      "Imputing row 301/15905 with 0 missing, elapsed time: 79.316\n",
      "Imputing row 401/15905 with 0 missing, elapsed time: 79.319\n",
      "Imputing row 501/15905 with 0 missing, elapsed time: 79.320\n",
      "Imputing row 601/15905 with 0 missing, elapsed time: 79.322\n",
      "Imputing row 701/15905 with 0 missing, elapsed time: 79.324\n",
      "Imputing row 801/15905 with 0 missing, elapsed time: 79.326\n",
      "Imputing row 901/15905 with 0 missing, elapsed time: 79.328\n",
      "Imputing row 1001/15905 with 0 missing, elapsed time: 79.330\n",
      "Imputing row 1101/15905 with 0 missing, elapsed time: 79.332\n",
      "Imputing row 1201/15905 with 1 missing, elapsed time: 79.333\n",
      "Imputing row 1301/15905 with 0 missing, elapsed time: 79.336\n",
      "Imputing row 1401/15905 with 0 missing, elapsed time: 79.338\n",
      "Imputing row 1501/15905 with 0 missing, elapsed time: 79.340\n",
      "Imputing row 1601/15905 with 0 missing, elapsed time: 79.343\n",
      "Imputing row 1701/15905 with 1 missing, elapsed time: 79.345\n",
      "Imputing row 1801/15905 with 0 missing, elapsed time: 79.347\n",
      "Imputing row 1901/15905 with 0 missing, elapsed time: 79.349\n",
      "Imputing row 2001/15905 with 0 missing, elapsed time: 79.350\n",
      "Imputing row 2101/15905 with 0 missing, elapsed time: 79.352\n",
      "Imputing row 2201/15905 with 0 missing, elapsed time: 79.353\n",
      "Imputing row 2301/15905 with 0 missing, elapsed time: 79.355\n",
      "Imputing row 2401/15905 with 0 missing, elapsed time: 79.356\n",
      "Imputing row 2501/15905 with 0 missing, elapsed time: 79.360\n",
      "Imputing row 2601/15905 with 0 missing, elapsed time: 79.361\n",
      "Imputing row 2701/15905 with 0 missing, elapsed time: 79.363\n",
      "Imputing row 2801/15905 with 0 missing, elapsed time: 79.365\n",
      "Imputing row 2901/15905 with 0 missing, elapsed time: 79.367\n",
      "Imputing row 3001/15905 with 0 missing, elapsed time: 79.368\n",
      "Imputing row 3101/15905 with 0 missing, elapsed time: 79.370\n",
      "Imputing row 3201/15905 with 0 missing, elapsed time: 79.371\n",
      "Imputing row 3301/15905 with 0 missing, elapsed time: 79.373\n",
      "Imputing row 3401/15905 with 0 missing, elapsed time: 79.376\n",
      "Imputing row 3501/15905 with 0 missing, elapsed time: 79.378\n",
      "Imputing row 3601/15905 with 0 missing, elapsed time: 79.379\n",
      "Imputing row 3701/15905 with 0 missing, elapsed time: 79.381\n",
      "Imputing row 3801/15905 with 0 missing, elapsed time: 79.383\n",
      "Imputing row 3901/15905 with 0 missing, elapsed time: 79.385\n",
      "Imputing row 4001/15905 with 0 missing, elapsed time: 79.387\n",
      "Imputing row 4101/15905 with 0 missing, elapsed time: 79.388\n",
      "Imputing row 4201/15905 with 0 missing, elapsed time: 79.391\n",
      "Imputing row 4301/15905 with 0 missing, elapsed time: 79.393\n",
      "Imputing row 4401/15905 with 0 missing, elapsed time: 79.395\n",
      "Imputing row 4501/15905 with 0 missing, elapsed time: 79.397\n",
      "Imputing row 4601/15905 with 0 missing, elapsed time: 79.399\n",
      "Imputing row 4701/15905 with 0 missing, elapsed time: 79.401\n",
      "Imputing row 4801/15905 with 0 missing, elapsed time: 79.404\n",
      "Imputing row 4901/15905 with 0 missing, elapsed time: 79.406\n",
      "Imputing row 5001/15905 with 0 missing, elapsed time: 79.409\n",
      "Imputing row 5101/15905 with 0 missing, elapsed time: 79.410\n",
      "Imputing row 5201/15905 with 0 missing, elapsed time: 79.412\n",
      "Imputing row 5301/15905 with 0 missing, elapsed time: 79.413\n",
      "Imputing row 5401/15905 with 0 missing, elapsed time: 79.415\n",
      "Imputing row 5501/15905 with 0 missing, elapsed time: 79.417\n",
      "Imputing row 5601/15905 with 0 missing, elapsed time: 79.419\n",
      "Imputing row 5701/15905 with 0 missing, elapsed time: 79.421\n",
      "Imputing row 5801/15905 with 0 missing, elapsed time: 79.423\n",
      "Imputing row 5901/15905 with 1 missing, elapsed time: 79.425\n",
      "Imputing row 6001/15905 with 0 missing, elapsed time: 79.427\n",
      "Imputing row 6101/15905 with 0 missing, elapsed time: 79.429\n",
      "Imputing row 6201/15905 with 0 missing, elapsed time: 79.430\n",
      "Imputing row 6301/15905 with 0 missing, elapsed time: 79.432\n",
      "Imputing row 6401/15905 with 0 missing, elapsed time: 79.434\n",
      "Imputing row 6501/15905 with 0 missing, elapsed time: 79.436\n",
      "Imputing row 6601/15905 with 0 missing, elapsed time: 79.438\n",
      "Imputing row 6701/15905 with 0 missing, elapsed time: 79.440\n",
      "Imputing row 6801/15905 with 0 missing, elapsed time: 79.442\n",
      "Imputing row 6901/15905 with 0 missing, elapsed time: 79.443\n",
      "Imputing row 7001/15905 with 0 missing, elapsed time: 79.445\n",
      "Imputing row 7101/15905 with 0 missing, elapsed time: 79.446\n",
      "Imputing row 7201/15905 with 0 missing, elapsed time: 79.448\n",
      "Imputing row 7301/15905 with 0 missing, elapsed time: 79.450\n",
      "Imputing row 7401/15905 with 0 missing, elapsed time: 79.452\n",
      "Imputing row 7501/15905 with 0 missing, elapsed time: 79.453\n",
      "Imputing row 7601/15905 with 0 missing, elapsed time: 79.456\n",
      "Imputing row 7701/15905 with 0 missing, elapsed time: 79.458\n",
      "Imputing row 7801/15905 with 0 missing, elapsed time: 79.459\n",
      "Imputing row 7901/15905 with 0 missing, elapsed time: 79.461\n",
      "Imputing row 8001/15905 with 0 missing, elapsed time: 79.462\n",
      "Imputing row 8101/15905 with 0 missing, elapsed time: 79.465\n",
      "Imputing row 8201/15905 with 0 missing, elapsed time: 79.466\n",
      "Imputing row 8301/15905 with 0 missing, elapsed time: 79.468\n",
      "Imputing row 8401/15905 with 0 missing, elapsed time: 79.470\n",
      "Imputing row 8501/15905 with 0 missing, elapsed time: 79.473\n",
      "Imputing row 8601/15905 with 0 missing, elapsed time: 79.475\n",
      "Imputing row 8701/15905 with 0 missing, elapsed time: 79.477\n",
      "Imputing row 8801/15905 with 0 missing, elapsed time: 79.479\n",
      "Imputing row 8901/15905 with 0 missing, elapsed time: 79.481\n",
      "Imputing row 9001/15905 with 0 missing, elapsed time: 79.482\n",
      "Imputing row 9101/15905 with 0 missing, elapsed time: 79.484\n",
      "Imputing row 9201/15905 with 0 missing, elapsed time: 79.485\n",
      "Imputing row 9301/15905 with 0 missing, elapsed time: 79.488\n",
      "Imputing row 9401/15905 with 0 missing, elapsed time: 79.489\n",
      "Imputing row 9501/15905 with 0 missing, elapsed time: 79.491\n",
      "Imputing row 9601/15905 with 0 missing, elapsed time: 79.493\n",
      "Imputing row 9701/15905 with 0 missing, elapsed time: 79.495\n",
      "Imputing row 9801/15905 with 0 missing, elapsed time: 79.497\n",
      "Imputing row 9901/15905 with 0 missing, elapsed time: 79.502\n",
      "Imputing row 10001/15905 with 0 missing, elapsed time: 79.504\n",
      "Imputing row 10101/15905 with 0 missing, elapsed time: 79.505\n",
      "Imputing row 10201/15905 with 0 missing, elapsed time: 79.508\n",
      "Imputing row 10301/15905 with 0 missing, elapsed time: 79.510\n",
      "Imputing row 10401/15905 with 0 missing, elapsed time: 79.512\n",
      "Imputing row 10501/15905 with 0 missing, elapsed time: 79.514\n",
      "Imputing row 10601/15905 with 0 missing, elapsed time: 79.517\n",
      "Imputing row 10701/15905 with 0 missing, elapsed time: 79.519\n",
      "Imputing row 10801/15905 with 0 missing, elapsed time: 79.522\n",
      "Imputing row 10901/15905 with 0 missing, elapsed time: 79.525\n",
      "Imputing row 11001/15905 with 0 missing, elapsed time: 79.528\n",
      "Imputing row 11101/15905 with 0 missing, elapsed time: 79.531\n",
      "Imputing row 11201/15905 with 0 missing, elapsed time: 79.533\n",
      "Imputing row 11301/15905 with 0 missing, elapsed time: 79.537\n",
      "Imputing row 11401/15905 with 0 missing, elapsed time: 79.540\n",
      "Imputing row 11501/15905 with 0 missing, elapsed time: 79.544\n",
      "Imputing row 11601/15905 with 0 missing, elapsed time: 79.546\n",
      "Imputing row 11701/15905 with 0 missing, elapsed time: 79.550\n",
      "Imputing row 11801/15905 with 0 missing, elapsed time: 79.552\n",
      "Imputing row 11901/15905 with 0 missing, elapsed time: 79.554\n",
      "Imputing row 12001/15905 with 0 missing, elapsed time: 79.557\n",
      "Imputing row 12101/15905 with 0 missing, elapsed time: 79.561\n",
      "Imputing row 12201/15905 with 0 missing, elapsed time: 79.564\n",
      "Imputing row 12301/15905 with 0 missing, elapsed time: 79.566\n",
      "Imputing row 12401/15905 with 0 missing, elapsed time: 79.568\n",
      "Imputing row 12501/15905 with 0 missing, elapsed time: 79.571\n",
      "Imputing row 12601/15905 with 0 missing, elapsed time: 79.573\n",
      "Imputing row 12701/15905 with 0 missing, elapsed time: 79.576\n",
      "Imputing row 12801/15905 with 0 missing, elapsed time: 79.578\n",
      "Imputing row 12901/15905 with 1 missing, elapsed time: 79.582\n",
      "Imputing row 13001/15905 with 0 missing, elapsed time: 79.585\n",
      "Imputing row 13101/15905 with 0 missing, elapsed time: 79.587\n",
      "Imputing row 13201/15905 with 0 missing, elapsed time: 79.589\n",
      "Imputing row 13301/15905 with 0 missing, elapsed time: 79.594\n",
      "Imputing row 13401/15905 with 0 missing, elapsed time: 79.597\n",
      "Imputing row 13501/15905 with 0 missing, elapsed time: 79.600\n",
      "Imputing row 13601/15905 with 0 missing, elapsed time: 79.602\n",
      "Imputing row 13701/15905 with 0 missing, elapsed time: 79.607\n",
      "Imputing row 13801/15905 with 1 missing, elapsed time: 79.613\n",
      "Imputing row 13901/15905 with 1 missing, elapsed time: 79.620\n",
      "Imputing row 14001/15905 with 0 missing, elapsed time: 79.624\n",
      "Imputing row 14101/15905 with 0 missing, elapsed time: 79.629\n",
      "Imputing row 14201/15905 with 0 missing, elapsed time: 79.632\n",
      "Imputing row 14301/15905 with 0 missing, elapsed time: 79.634\n",
      "Imputing row 14401/15905 with 0 missing, elapsed time: 79.636\n",
      "Imputing row 14501/15905 with 0 missing, elapsed time: 79.638\n",
      "Imputing row 14601/15905 with 0 missing, elapsed time: 79.641\n",
      "Imputing row 14701/15905 with 0 missing, elapsed time: 79.643\n",
      "Imputing row 14801/15905 with 0 missing, elapsed time: 79.650\n",
      "Imputing row 14901/15905 with 0 missing, elapsed time: 79.654\n",
      "Imputing row 15001/15905 with 0 missing, elapsed time: 79.655\n",
      "Imputing row 15101/15905 with 0 missing, elapsed time: 79.657\n",
      "Imputing row 15201/15905 with 0 missing, elapsed time: 79.659\n",
      "Imputing row 15301/15905 with 0 missing, elapsed time: 79.662\n",
      "Imputing row 15401/15905 with 0 missing, elapsed time: 79.665\n",
      "Imputing row 15501/15905 with 0 missing, elapsed time: 79.668\n",
      "Imputing row 15601/15905 with 0 missing, elapsed time: 79.671\n",
      "Imputing row 15701/15905 with 0 missing, elapsed time: 79.672\n",
      "Imputing row 15801/15905 with 0 missing, elapsed time: 79.675\n",
      "Imputing row 15901/15905 with 0 missing, elapsed time: 79.678\n",
      "Imputing row 1/9914 with 0 missing, elapsed time: 28.939\n",
      "Imputing row 101/9914 with 0 missing, elapsed time: 28.940\n",
      "Imputing row 201/9914 with 0 missing, elapsed time: 28.941\n",
      "Imputing row 301/9914 with 0 missing, elapsed time: 28.942\n",
      "Imputing row 401/9914 with 0 missing, elapsed time: 28.944\n",
      "Imputing row 501/9914 with 0 missing, elapsed time: 28.945\n",
      "Imputing row 601/9914 with 0 missing, elapsed time: 28.946\n",
      "Imputing row 701/9914 with 0 missing, elapsed time: 28.947\n",
      "Imputing row 801/9914 with 0 missing, elapsed time: 28.949\n",
      "Imputing row 901/9914 with 0 missing, elapsed time: 28.951\n",
      "Imputing row 1001/9914 with 0 missing, elapsed time: 28.952\n",
      "Imputing row 1101/9914 with 0 missing, elapsed time: 28.953\n",
      "Imputing row 1201/9914 with 0 missing, elapsed time: 28.955\n",
      "Imputing row 1301/9914 with 0 missing, elapsed time: 28.956\n",
      "Imputing row 1401/9914 with 0 missing, elapsed time: 28.956\n",
      "Imputing row 1501/9914 with 0 missing, elapsed time: 28.958\n",
      "Imputing row 1601/9914 with 0 missing, elapsed time: 28.958\n",
      "Imputing row 1701/9914 with 0 missing, elapsed time: 28.959\n",
      "Imputing row 1801/9914 with 0 missing, elapsed time: 28.960\n",
      "Imputing row 1901/9914 with 0 missing, elapsed time: 28.962\n",
      "Imputing row 2001/9914 with 0 missing, elapsed time: 28.962\n",
      "Imputing row 2101/9914 with 0 missing, elapsed time: 28.963\n",
      "Imputing row 2201/9914 with 0 missing, elapsed time: 28.965\n",
      "Imputing row 2301/9914 with 0 missing, elapsed time: 28.967\n",
      "Imputing row 2401/9914 with 0 missing, elapsed time: 28.968\n",
      "Imputing row 2501/9914 with 0 missing, elapsed time: 28.969\n",
      "Imputing row 2601/9914 with 0 missing, elapsed time: 28.969\n",
      "Imputing row 2701/9914 with 0 missing, elapsed time: 28.972\n",
      "Imputing row 2801/9914 with 0 missing, elapsed time: 28.973\n",
      "Imputing row 2901/9914 with 0 missing, elapsed time: 28.973\n",
      "Imputing row 3001/9914 with 0 missing, elapsed time: 28.975\n",
      "Imputing row 3101/9914 with 0 missing, elapsed time: 28.976\n",
      "Imputing row 3201/9914 with 0 missing, elapsed time: 28.976\n",
      "Imputing row 3301/9914 with 0 missing, elapsed time: 28.977\n",
      "Imputing row 3401/9914 with 0 missing, elapsed time: 28.978\n",
      "Imputing row 3501/9914 with 0 missing, elapsed time: 28.979\n",
      "Imputing row 3601/9914 with 0 missing, elapsed time: 28.979\n",
      "Imputing row 3701/9914 with 0 missing, elapsed time: 28.980\n",
      "Imputing row 3801/9914 with 0 missing, elapsed time: 28.981\n",
      "Imputing row 3901/9914 with 0 missing, elapsed time: 28.981\n",
      "Imputing row 4001/9914 with 0 missing, elapsed time: 28.982\n",
      "Imputing row 4101/9914 with 0 missing, elapsed time: 28.982\n",
      "Imputing row 4201/9914 with 0 missing, elapsed time: 28.983\n",
      "Imputing row 4301/9914 with 0 missing, elapsed time: 28.984\n",
      "Imputing row 4401/9914 with 0 missing, elapsed time: 28.984\n",
      "Imputing row 4501/9914 with 0 missing, elapsed time: 28.985\n",
      "Imputing row 4601/9914 with 0 missing, elapsed time: 28.986\n",
      "Imputing row 4701/9914 with 0 missing, elapsed time: 28.987\n",
      "Imputing row 4801/9914 with 0 missing, elapsed time: 28.988\n",
      "Imputing row 4901/9914 with 0 missing, elapsed time: 28.989\n",
      "Imputing row 5001/9914 with 0 missing, elapsed time: 28.990\n",
      "Imputing row 5101/9914 with 0 missing, elapsed time: 28.990\n",
      "Imputing row 5201/9914 with 0 missing, elapsed time: 28.991\n",
      "Imputing row 5301/9914 with 0 missing, elapsed time: 28.992\n",
      "Imputing row 5401/9914 with 0 missing, elapsed time: 28.992\n",
      "Imputing row 5501/9914 with 0 missing, elapsed time: 28.994\n",
      "Imputing row 5601/9914 with 0 missing, elapsed time: 28.995\n",
      "Imputing row 5701/9914 with 0 missing, elapsed time: 28.997\n",
      "Imputing row 5801/9914 with 0 missing, elapsed time: 28.998\n",
      "Imputing row 5901/9914 with 0 missing, elapsed time: 28.998\n",
      "Imputing row 6001/9914 with 0 missing, elapsed time: 28.999\n",
      "Imputing row 6101/9914 with 0 missing, elapsed time: 28.999\n",
      "Imputing row 6201/9914 with 0 missing, elapsed time: 29.000\n",
      "Imputing row 6301/9914 with 0 missing, elapsed time: 29.001\n",
      "Imputing row 6401/9914 with 0 missing, elapsed time: 29.003\n",
      "Imputing row 6501/9914 with 0 missing, elapsed time: 29.004\n",
      "Imputing row 6601/9914 with 0 missing, elapsed time: 29.006\n",
      "Imputing row 6701/9914 with 0 missing, elapsed time: 29.007\n",
      "Imputing row 6801/9914 with 0 missing, elapsed time: 29.007\n",
      "Imputing row 6901/9914 with 0 missing, elapsed time: 29.009\n",
      "Imputing row 7001/9914 with 0 missing, elapsed time: 29.011\n",
      "Imputing row 7101/9914 with 0 missing, elapsed time: 29.011\n",
      "Imputing row 7201/9914 with 0 missing, elapsed time: 29.013\n",
      "Imputing row 7301/9914 with 0 missing, elapsed time: 29.013\n",
      "Imputing row 7401/9914 with 0 missing, elapsed time: 29.014\n",
      "Imputing row 7501/9914 with 0 missing, elapsed time: 29.015\n",
      "Imputing row 7601/9914 with 0 missing, elapsed time: 29.016\n",
      "Imputing row 7701/9914 with 0 missing, elapsed time: 29.018\n",
      "Imputing row 7801/9914 with 0 missing, elapsed time: 29.018\n",
      "Imputing row 7901/9914 with 0 missing, elapsed time: 29.020\n",
      "Imputing row 8001/9914 with 0 missing, elapsed time: 29.022\n",
      "Imputing row 8101/9914 with 0 missing, elapsed time: 29.023\n",
      "Imputing row 8201/9914 with 0 missing, elapsed time: 29.024\n",
      "Imputing row 8301/9914 with 0 missing, elapsed time: 29.025\n",
      "Imputing row 8401/9914 with 0 missing, elapsed time: 29.027\n",
      "Imputing row 8501/9914 with 0 missing, elapsed time: 29.028\n",
      "Imputing row 8601/9914 with 0 missing, elapsed time: 29.029\n",
      "Imputing row 8701/9914 with 0 missing, elapsed time: 29.030\n",
      "Imputing row 8801/9914 with 0 missing, elapsed time: 29.031\n",
      "Imputing row 8901/9914 with 0 missing, elapsed time: 29.033\n",
      "Imputing row 9001/9914 with 0 missing, elapsed time: 29.033\n",
      "Imputing row 9101/9914 with 0 missing, elapsed time: 29.035\n",
      "Imputing row 9201/9914 with 0 missing, elapsed time: 29.036\n",
      "Imputing row 9301/9914 with 0 missing, elapsed time: 29.037\n",
      "Imputing row 9401/9914 with 0 missing, elapsed time: 29.038\n",
      "Imputing row 9501/9914 with 1 missing, elapsed time: 29.040\n",
      "Imputing row 9601/9914 with 0 missing, elapsed time: 29.041\n",
      "Imputing row 9701/9914 with 0 missing, elapsed time: 29.042\n",
      "Imputing row 9801/9914 with 0 missing, elapsed time: 29.042\n",
      "Imputing row 9901/9914 with 0 missing, elapsed time: 29.044\n"
     ]
    }
   ],
   "source": [
    "#Imputing the missing values\n",
    "#Actual value = 5.037\n",
    "#Mean Value = 15.12\n",
    "#Median Value = 2.196\n",
    "#KNN value = 4.790\n",
    "#cab_data['distance_travelled'].iloc[52] = np.nan\n",
    "#cab_data['distance_travelled'].iloc[52] = cab_data['distance_travelled'].mean()\n",
    "#cab_data['distance_travelled'].iloc[52] = cab_data['distance_travelled'].median()\n",
    "\n",
    "#Imputing with KNN method\n",
    "cab_train = pd.DataFrame(KNN(k = 3).fit_transform(cab_train), columns = cab_train.columns)\n",
    "cab_test = pd.DataFrame(KNN(k = 3).fit_transform(cab_test), columns = cab_test.columns)"
   ]
  },
  {
   "cell_type": "code",
   "execution_count": 31,
   "metadata": {},
   "outputs": [
    {
     "name": "stdout",
     "output_type": "stream",
     "text": [
      "0\n",
      "(15905, 8)\n"
     ]
    }
   ],
   "source": [
    "#To verify if we have any null values after KNN imputation\n",
    "print(cab_train.isnull().sum().sum())\n",
    "print(cab_train.shape)"
   ]
  },
  {
   "cell_type": "code",
   "execution_count": 32,
   "metadata": {},
   "outputs": [],
   "source": [
    "cab_train.dtypes\n",
    "\n",
    "#Dividing categorical and continuous variables\n",
    "\n",
    "cont_var = ['passenger_count','year','Date','Hour','fare_amount','distance_travelled']\n",
    "cat_var = ['Month','Day']\n",
    "\n",
    "#To take a copy of cab_train dataset\n",
    "cab_data = cab_train.copy()"
   ]
  },
  {
   "cell_type": "markdown",
   "metadata": {},
   "source": [
    "Now our `cab_train` dataset is a cleaned one with no missing values. Let's take a copy of `cab_train` as `cab_data` with dimensions (15905,8) and let's work on it for further steps."
   ]
  },
  {
   "cell_type": "markdown",
   "metadata": {},
   "source": [
    "## Univariate and Bivariate Analysis\n",
    "* Let us visualize the distribution of variables in our train dataset\n",
    "* We will use histograms for continuous variables and barplots for the categorical variables"
   ]
  },
  {
   "cell_type": "code",
   "execution_count": 33,
   "metadata": {},
   "outputs": [
    {
     "data": {
      "image/png": "[encoded data removed]",
      "text/plain": [
       "<Figure size 432x288 with 1 Axes>"
      ]
     },
     "metadata": {
      "needs_background": "light"
     },
     "output_type": "display_data"
    },
    {
     "data": {
      "image/png": "[encoded data removed]",
      "text/plain": [
       "<Figure size 432x288 with 1 Axes>"
      ]
     },
     "metadata": {
      "needs_background": "light"
     },
     "output_type": "display_data"
    },
    {
     "data": {
      "image/png": "[encoded data removed]",
      "text/plain": [
       "<Figure size 432x288 with 1 Axes>"
      ]
     },
     "metadata": {
      "needs_background": "light"
     },
     "output_type": "display_data"
    },
    {
     "data": {
      "image/png": "[encoded data removed]",
      "text/plain": [
       "<Figure size 432x288 with 1 Axes>"
      ]
     },
     "metadata": {
      "needs_background": "light"
     },
     "output_type": "display_data"
    }
   ],
   "source": [
    "#For continuous variables\n",
    "for i in cont_var[:4]:\n",
    "    plt.hist(cab_train[i].dropna(),bins = 'auto')\n",
    "    plt.title(\"Distribution of \" + str(i))\n",
    "    plt.show()"
   ]
  },
  {
   "cell_type": "code",
   "execution_count": 34,
   "metadata": {},
   "outputs": [
    {
     "name": "stderr",
     "output_type": "stream",
     "text": [
      "C:\\Users\\abhis\\Anaconda3\\lib\\site-packages\\seaborn\\categorical.py:3666: UserWarning: The `factorplot` function has been renamed to `catplot`. The original name will be removed in a future release. Please update your code. Note that the default `kind` in `factorplot` (`'point'`) has changed `'strip'` in `catplot`.\n",
      "  warnings.warn(msg)\n",
      "C:\\Users\\abhis\\Anaconda3\\lib\\site-packages\\seaborn\\categorical.py:3672: UserWarning: The `size` paramter has been renamed to `height`; please update your code.\n",
      "  warnings.warn(msg, UserWarning)\n"
     ]
    },
    {
     "data": {
      "text/plain": [
       "<seaborn.axisgrid.FacetGrid at 0x11a819ca908>"
      ]
     },
     "execution_count": 34,
     "metadata": {},
     "output_type": "execute_result"
    },
    {
     "data": {
      "image/png": "[encoded data removed]",
      "text/plain": [
       "<Figure size 576x288 with 1 Axes>"
      ]
     },
     "metadata": {},
     "output_type": "display_data"
    },
    {
     "data": {
      "image/png": "[encoded data removed]",
      "text/plain": [
       "<Figure size 576x288 with 1 Axes>"
      ]
     },
     "metadata": {},
     "output_type": "display_data"
    }
   ],
   "source": [
    "#Check the distribution of the Categorical variables\n",
    "sns.set_style(\"whitegrid\")\n",
    "sns.factorplot(data=cab_data, x='Month', kind= 'count',size=4,aspect=2)\n",
    "sns.factorplot(data=cab_data, x='Day', kind= 'count',size=4,aspect=2)"
   ]
  },
  {
   "cell_type": "markdown",
   "metadata": {},
   "source": [
    "From the above plots, we can have a few quick insights.\n",
    "* Demand of cabs is high on 6th and 5th days in a week and least on 1st day of the week\n",
    "* Demand of cabs is high in the month of May, March and June respectively and least demand in August\n",
    "* Cabs are high in demand during evening hours and least demand during early hours of the day\n",
    "* Single travelled passenger's prefer cabs than with a group of 4/5    "
   ]
  },
  {
   "cell_type": "code",
   "execution_count": 35,
   "metadata": {},
   "outputs": [
    {
     "data": {
      "text/plain": [
       "Text(0, 0.5, 'Fare Amount')"
      ]
     },
     "execution_count": 35,
     "metadata": {},
     "output_type": "execute_result"
    },
    {
     "data": {
      "image/png": "[encoded data removed]",
      "text/plain": [
       "<Figure size 432x288 with 1 Axes>"
      ]
     },
     "metadata": {},
     "output_type": "display_data"
    }
   ],
   "source": [
    "# Grouping the data using Day against our target variable and plotting bar plot\n",
    "cab_data.groupby('Day').mean()['fare_amount'].plot.bar()\n",
    "plt.ylabel('Fare Amount')"
   ]
  },
  {
   "cell_type": "code",
   "execution_count": 36,
   "metadata": {},
   "outputs": [
    {
     "data": {
      "text/plain": [
       "Text(0, 0.5, 'Fare Amount')"
      ]
     },
     "execution_count": 36,
     "metadata": {},
     "output_type": "execute_result"
    },
    {
     "data": {
      "image/png": "[encoded data removed]",
      "text/plain": [
       "<Figure size 432x288 with 1 Axes>"
      ]
     },
     "metadata": {},
     "output_type": "display_data"
    }
   ],
   "source": [
    "# Grouping the data using Month against our target variable and plotting bar plot\n",
    "cab_data.groupby('Month').mean()['fare_amount'].plot.bar()\n",
    "plt.ylabel('Fare Amount')"
   ]
  },
  {
   "cell_type": "code",
   "execution_count": 37,
   "metadata": {},
   "outputs": [
    {
     "data": {
      "text/plain": [
       "Text(0, 0.5, 'Fare Amount')"
      ]
     },
     "execution_count": 37,
     "metadata": {},
     "output_type": "execute_result"
    },
    {
     "data": {
      "image/png": "[encoded data removed]",
      "text/plain": [
       "<Figure size 432x288 with 1 Axes>"
      ]
     },
     "metadata": {},
     "output_type": "display_data"
    }
   ],
   "source": [
    "# Grouping the data using Hour against our target variable and plotting bar plot\n",
    "cab_data.groupby('Hour').mean()['fare_amount'].plot.bar()\n",
    "plt.ylabel('Fare Amount')"
   ]
  },
  {
   "cell_type": "code",
   "execution_count": 38,
   "metadata": {},
   "outputs": [
    {
     "data": {
      "text/plain": [
       "Text(0, 0.5, 'Fare Amount')"
      ]
     },
     "execution_count": 38,
     "metadata": {},
     "output_type": "execute_result"
    },
    {
     "data": {
      "image/png": "[encoded data removed]",
      "text/plain": [
       "<Figure size 432x288 with 1 Axes>"
      ]
     },
     "metadata": {},
     "output_type": "display_data"
    }
   ],
   "source": [
    "# Grouping the data using Date against our target variable and plotting bar plot\n",
    "cab_data.groupby('Date').mean()['fare_amount'].plot.bar()\n",
    "plt.ylabel('Fare Amount')"
   ]
  },
  {
   "cell_type": "markdown",
   "metadata": {},
   "source": [
    "From the above plots, we can have a few quick insights.\n",
    "* The average fare amount is higher on the 5th day of the week\n",
    "* The average fare amount is higher in the month of February\n",
    "* Fair amounts are higher between 6 P.M.- 7 P.M. and least at5 A.M.\n",
    "* Average fare price is highest on 27th of every month\n",
    "* The average fare amount is higher at 5 P.M."
   ]
  },
  {
   "cell_type": "markdown",
   "metadata": {},
   "source": [
    "## Feature Scaling\n",
    "Let's scale our variables distance_travelled and passenger_count in both train and test datasets"
   ]
  },
  {
   "cell_type": "code",
   "execution_count": 39,
   "metadata": {},
   "outputs": [],
   "source": [
    "#The data is right skewed in distance_travelled and hence we'll apply log on that variable\n",
    "cab_data['distance_travelled'] = np.log1p(cab_data['distance_travelled'])\n",
    "#To apply normalisation on passenger count\n",
    "norm_var = ['passenger_count']\n",
    "\n",
    "for i in norm_var:\n",
    "    cab_data[i] = (cab_data[i] - cab_data[i].min()) / (cab_data[i].max() - cab_data[i].min())#Normalization formula\n",
    "\n",
    "#To apply normalisation on passenger count for Test dataset\n",
    "cab_test['distance_travelled'] = np.log1p(cab_test['distance_travelled'])\n",
    "for i in norm_var:\n",
    "    cab_test[i] = (cab_test[i] - cab_test[i].min()) / (cab_test[i].max() - cab_test[i].min())#Normalization formula\n"
   ]
  },
  {
   "cell_type": "code",
   "execution_count": 40,
   "metadata": {},
   "outputs": [
    {
     "data": {
      "image/png": "[encoded data removed]",
      "text/plain": [
       "<Figure size 432x288 with 1 Axes>"
      ]
     },
     "metadata": {},
     "output_type": "display_data"
    }
   ],
   "source": [
    "#Distribution of distance_travelled\n",
    "sns.distplot(cab_data['distance_travelled'],bins='auto',color='green')\n",
    "plt.title(\"Distribution for Distance Travelled\")\n",
    "plt.ylabel(\"Density\")\n",
    "plt.show()"
   ]
  },
  {
   "cell_type": "code",
   "execution_count": 41,
   "metadata": {},
   "outputs": [
    {
     "data": {
      "image/png": "[encoded data removed]",
      "text/plain": [
       "<Figure size 432x288 with 1 Axes>"
      ]
     },
     "metadata": {},
     "output_type": "display_data"
    }
   ],
   "source": [
    "#To check the distribution of distance_travelled in the test data\n",
    "sns.distplot(cab_test['distance_travelled'],bins='auto',color='blue')\n",
    "plt.title(\"Distribution for Distance Travelled\")\n",
    "plt.ylabel(\"Density\")\n",
    "plt.show()"
   ]
  },
  {
   "cell_type": "code",
   "execution_count": 42,
   "metadata": {},
   "outputs": [
    {
     "name": "stdout",
     "output_type": "stream",
     "text": [
      "(15905, 8)\n",
      "(9914, 7)\n"
     ]
    }
   ],
   "source": [
    "#To know the shapes of the train and test data\n",
    "print(cab_data.shape)\n",
    "print(cab_test.shape)"
   ]
  },
  {
   "cell_type": "markdown",
   "metadata": {},
   "source": [
    "## Outlier Analysis\n",
    "Outliers are to be detected by using box plot and those values are to be replaced or imputed by using various techniques such as mean, median or KNN method."
   ]
  },
  {
   "cell_type": "code",
   "execution_count": 43,
   "metadata": {},
   "outputs": [
    {
     "data": {
      "image/png": "[encoded data removed]",
      "text/plain": [
       "<Figure size 432x288 with 1 Axes>"
      ]
     },
     "metadata": {},
     "output_type": "display_data"
    }
   ],
   "source": [
    "#Box plot for Fare Amount\n",
    "plt.boxplot(cab_data['fare_amount'])\n",
    "plt.xlabel(\"Fare Amount\")\n",
    "plt.ylabel(\"Values\")\n",
    "plt.title(\"Box Plot for Fare Amount\")\n",
    "plt.show()"
   ]
  },
  {
   "cell_type": "code",
   "execution_count": 44,
   "metadata": {},
   "outputs": [
    {
     "data": {
      "image/png": "[encoded data removed]",
      "text/plain": [
       "<Figure size 432x288 with 1 Axes>"
      ]
     },
     "metadata": {},
     "output_type": "display_data"
    }
   ],
   "source": [
    "#Box plot for Fare Amount\n",
    "plt.boxplot(cab_data['distance_travelled'])\n",
    "plt.xlabel(\"Distance Travelled\")\n",
    "plt.ylabel(\"Values\")\n",
    "plt.title(\"Box Plot for Distance travelled\")\n",
    "plt.show()"
   ]
  },
  {
   "cell_type": "code",
   "execution_count": 45,
   "metadata": {},
   "outputs": [
    {
     "data": {
      "image/png": "[encoded data removed]",
      "text/plain": [
       "<Figure size 432x288 with 1 Axes>"
      ]
     },
     "metadata": {},
     "output_type": "display_data"
    }
   ],
   "source": [
    "#Box plot for Fare Amount\n",
    "plt.boxplot(cab_data['passenger_count'])\n",
    "plt.xlabel(\"Passenger Count\")\n",
    "plt.ylabel(\"Values\")\n",
    "plt.title(\"Box Plot for Passenger Count\")\n",
    "plt.show()"
   ]
  },
  {
   "cell_type": "markdown",
   "metadata": {},
   "source": [
    "It is found that we have a few outliers in passenger_count, fare_amount and distance_travelled"
   ]
  },
  {
   "cell_type": "code",
   "execution_count": 46,
   "metadata": {},
   "outputs": [],
   "source": [
    "#List with variables with outliers\n",
    "outliers = ['passenger_count', 'distance_travelled', 'fare_amount']\n",
    "\n",
    "#Loop through the above list of variables\n",
    "for i in outliers:\n",
    "    q75,q25 = np.percentile(cab_data[i], [75,25]) #To get 75 and 25 percentile values\n",
    "    iqr = q75 - q25 #Interquartile region\n",
    "    #Calculating outerfence and innerfence\n",
    "    outer = q75 + (iqr*1.5)\n",
    "    inner = q25 - (iqr*1.5)\n",
    "# Replacing all the outliers value to NA\n",
    "cab_data.loc[cab_data[i]< inner,i] = np.nan\n",
    "cab_data.loc[cab_data[i]> outer,i] = np.nan"
   ]
  },
  {
   "cell_type": "code",
   "execution_count": 47,
   "metadata": {},
   "outputs": [
    {
     "name": "stdout",
     "output_type": "stream",
     "text": [
      "Imputing row 1/15905 with 0 missing, elapsed time: 77.164\n",
      "Imputing row 101/15905 with 0 missing, elapsed time: 77.167\n",
      "Imputing row 201/15905 with 0 missing, elapsed time: 77.170\n",
      "Imputing row 301/15905 with 0 missing, elapsed time: 77.173\n",
      "Imputing row 401/15905 with 1 missing, elapsed time: 77.176\n",
      "Imputing row 501/15905 with 0 missing, elapsed time: 77.180\n",
      "Imputing row 601/15905 with 0 missing, elapsed time: 77.184\n",
      "Imputing row 701/15905 with 0 missing, elapsed time: 77.188\n",
      "Imputing row 801/15905 with 0 missing, elapsed time: 77.192\n",
      "Imputing row 901/15905 with 0 missing, elapsed time: 77.194\n",
      "Imputing row 1001/15905 with 0 missing, elapsed time: 77.198\n",
      "Imputing row 1101/15905 with 1 missing, elapsed time: 77.201\n",
      "Imputing row 1201/15905 with 0 missing, elapsed time: 77.204\n",
      "Imputing row 1301/15905 with 1 missing, elapsed time: 77.207\n",
      "Imputing row 1401/15905 with 0 missing, elapsed time: 77.210\n",
      "Imputing row 1501/15905 with 0 missing, elapsed time: 77.213\n",
      "Imputing row 1601/15905 with 0 missing, elapsed time: 77.216\n",
      "Imputing row 1701/15905 with 0 missing, elapsed time: 77.220\n",
      "Imputing row 1801/15905 with 0 missing, elapsed time: 77.222\n",
      "Imputing row 1901/15905 with 0 missing, elapsed time: 77.225\n",
      "Imputing row 2001/15905 with 0 missing, elapsed time: 77.228\n",
      "Imputing row 2101/15905 with 1 missing, elapsed time: 77.232\n",
      "Imputing row 2201/15905 with 0 missing, elapsed time: 77.236\n",
      "Imputing row 2301/15905 with 0 missing, elapsed time: 77.238\n",
      "Imputing row 2401/15905 with 0 missing, elapsed time: 77.242\n",
      "Imputing row 2501/15905 with 0 missing, elapsed time: 77.244\n",
      "Imputing row 2601/15905 with 0 missing, elapsed time: 77.248\n",
      "Imputing row 2701/15905 with 0 missing, elapsed time: 77.250\n",
      "Imputing row 2801/15905 with 0 missing, elapsed time: 77.253\n",
      "Imputing row 2901/15905 with 0 missing, elapsed time: 77.256\n",
      "Imputing row 3001/15905 with 0 missing, elapsed time: 77.259\n",
      "Imputing row 3101/15905 with 1 missing, elapsed time: 77.261\n",
      "Imputing row 3201/15905 with 1 missing, elapsed time: 77.264\n",
      "Imputing row 3301/15905 with 0 missing, elapsed time: 77.268\n",
      "Imputing row 3401/15905 with 0 missing, elapsed time: 77.271\n",
      "Imputing row 3501/15905 with 0 missing, elapsed time: 77.274\n",
      "Imputing row 3601/15905 with 0 missing, elapsed time: 77.277\n",
      "Imputing row 3701/15905 with 0 missing, elapsed time: 77.280\n",
      "Imputing row 3801/15905 with 0 missing, elapsed time: 77.282\n",
      "Imputing row 3901/15905 with 0 missing, elapsed time: 77.285\n",
      "Imputing row 4001/15905 with 0 missing, elapsed time: 77.288\n",
      "Imputing row 4101/15905 with 0 missing, elapsed time: 77.290\n",
      "Imputing row 4201/15905 with 0 missing, elapsed time: 77.294\n",
      "Imputing row 4301/15905 with 0 missing, elapsed time: 77.298\n",
      "Imputing row 4401/15905 with 0 missing, elapsed time: 77.301\n",
      "Imputing row 4501/15905 with 0 missing, elapsed time: 77.305\n",
      "Imputing row 4601/15905 with 0 missing, elapsed time: 77.309\n",
      "Imputing row 4701/15905 with 0 missing, elapsed time: 77.312\n",
      "Imputing row 4801/15905 with 0 missing, elapsed time: 77.316\n",
      "Imputing row 4901/15905 with 0 missing, elapsed time: 77.319\n",
      "Imputing row 5001/15905 with 0 missing, elapsed time: 77.321\n",
      "Imputing row 5101/15905 with 0 missing, elapsed time: 77.325\n",
      "Imputing row 5201/15905 with 0 missing, elapsed time: 77.328\n",
      "Imputing row 5301/15905 with 0 missing, elapsed time: 77.330\n",
      "Imputing row 5401/15905 with 0 missing, elapsed time: 77.333\n",
      "Imputing row 5501/15905 with 0 missing, elapsed time: 77.336\n",
      "Imputing row 5601/15905 with 0 missing, elapsed time: 77.339\n",
      "Imputing row 5701/15905 with 0 missing, elapsed time: 77.343\n",
      "Imputing row 5801/15905 with 0 missing, elapsed time: 77.347\n",
      "Imputing row 5901/15905 with 0 missing, elapsed time: 77.351\n",
      "Imputing row 6001/15905 with 0 missing, elapsed time: 77.354\n",
      "Imputing row 6101/15905 with 0 missing, elapsed time: 77.357\n",
      "Imputing row 6201/15905 with 1 missing, elapsed time: 77.361\n",
      "Imputing row 6301/15905 with 0 missing, elapsed time: 77.364\n",
      "Imputing row 6401/15905 with 1 missing, elapsed time: 77.367\n",
      "Imputing row 6501/15905 with 0 missing, elapsed time: 77.370\n",
      "Imputing row 6601/15905 with 0 missing, elapsed time: 77.374\n",
      "Imputing row 6701/15905 with 0 missing, elapsed time: 77.377\n",
      "Imputing row 6801/15905 with 0 missing, elapsed time: 77.380\n",
      "Imputing row 6901/15905 with 0 missing, elapsed time: 77.384\n",
      "Imputing row 7001/15905 with 0 missing, elapsed time: 77.388\n",
      "Imputing row 7101/15905 with 0 missing, elapsed time: 77.392\n",
      "Imputing row 7201/15905 with 0 missing, elapsed time: 77.395\n",
      "Imputing row 7301/15905 with 0 missing, elapsed time: 77.400\n",
      "Imputing row 7401/15905 with 0 missing, elapsed time: 77.405\n",
      "Imputing row 7501/15905 with 0 missing, elapsed time: 77.410\n",
      "Imputing row 7601/15905 with 0 missing, elapsed time: 77.415\n",
      "Imputing row 7701/15905 with 0 missing, elapsed time: 77.424\n",
      "Imputing row 7801/15905 with 0 missing, elapsed time: 77.428\n",
      "Imputing row 7901/15905 with 1 missing, elapsed time: 77.432\n",
      "Imputing row 8001/15905 with 0 missing, elapsed time: 77.436\n",
      "Imputing row 8101/15905 with 0 missing, elapsed time: 77.444\n",
      "Imputing row 8201/15905 with 0 missing, elapsed time: 77.449\n",
      "Imputing row 8301/15905 with 0 missing, elapsed time: 77.452\n",
      "Imputing row 8401/15905 with 0 missing, elapsed time: 77.458\n",
      "Imputing row 8501/15905 with 0 missing, elapsed time: 77.462\n",
      "Imputing row 8601/15905 with 1 missing, elapsed time: 77.465\n",
      "Imputing row 8701/15905 with 0 missing, elapsed time: 77.468\n",
      "Imputing row 8801/15905 with 0 missing, elapsed time: 77.471\n",
      "Imputing row 8901/15905 with 0 missing, elapsed time: 77.475\n",
      "Imputing row 9001/15905 with 0 missing, elapsed time: 77.478\n",
      "Imputing row 9101/15905 with 0 missing, elapsed time: 77.481\n",
      "Imputing row 9201/15905 with 0 missing, elapsed time: 77.485\n",
      "Imputing row 9301/15905 with 0 missing, elapsed time: 77.488\n",
      "Imputing row 9401/15905 with 0 missing, elapsed time: 77.490\n",
      "Imputing row 9501/15905 with 0 missing, elapsed time: 77.492\n",
      "Imputing row 9601/15905 with 0 missing, elapsed time: 77.495\n",
      "Imputing row 9701/15905 with 0 missing, elapsed time: 77.498\n",
      "Imputing row 9801/15905 with 0 missing, elapsed time: 77.502\n",
      "Imputing row 9901/15905 with 0 missing, elapsed time: 77.507\n",
      "Imputing row 10001/15905 with 0 missing, elapsed time: 77.511\n",
      "Imputing row 10101/15905 with 0 missing, elapsed time: 77.513\n",
      "Imputing row 10201/15905 with 0 missing, elapsed time: 77.518\n",
      "Imputing row 10301/15905 with 0 missing, elapsed time: 77.520\n",
      "Imputing row 10401/15905 with 0 missing, elapsed time: 77.524\n",
      "Imputing row 10501/15905 with 0 missing, elapsed time: 77.527\n",
      "Imputing row 10601/15905 with 0 missing, elapsed time: 77.533\n",
      "Imputing row 10701/15905 with 0 missing, elapsed time: 77.536\n",
      "Imputing row 10801/15905 with 0 missing, elapsed time: 77.539\n",
      "Imputing row 10901/15905 with 0 missing, elapsed time: 77.542\n",
      "Imputing row 11001/15905 with 0 missing, elapsed time: 77.544\n",
      "Imputing row 11101/15905 with 0 missing, elapsed time: 77.549\n",
      "Imputing row 11201/15905 with 0 missing, elapsed time: 77.553\n",
      "Imputing row 11301/15905 with 0 missing, elapsed time: 77.555\n",
      "Imputing row 11401/15905 with 0 missing, elapsed time: 77.559\n",
      "Imputing row 11501/15905 with 0 missing, elapsed time: 77.563\n",
      "Imputing row 11601/15905 with 0 missing, elapsed time: 77.567\n",
      "Imputing row 11701/15905 with 0 missing, elapsed time: 77.571\n",
      "Imputing row 11801/15905 with 1 missing, elapsed time: 77.573\n",
      "Imputing row 11901/15905 with 0 missing, elapsed time: 77.578\n",
      "Imputing row 12001/15905 with 0 missing, elapsed time: 77.582\n",
      "Imputing row 12101/15905 with 0 missing, elapsed time: 77.585\n",
      "Imputing row 12201/15905 with 0 missing, elapsed time: 77.590\n",
      "Imputing row 12301/15905 with 0 missing, elapsed time: 77.595\n",
      "Imputing row 12401/15905 with 0 missing, elapsed time: 77.598\n",
      "Imputing row 12501/15905 with 0 missing, elapsed time: 77.601\n",
      "Imputing row 12601/15905 with 0 missing, elapsed time: 77.604\n",
      "Imputing row 12701/15905 with 0 missing, elapsed time: 77.607\n",
      "Imputing row 12801/15905 with 0 missing, elapsed time: 77.610\n",
      "Imputing row 12901/15905 with 0 missing, elapsed time: 77.615\n",
      "Imputing row 13001/15905 with 0 missing, elapsed time: 77.619\n",
      "Imputing row 13101/15905 with 0 missing, elapsed time: 77.622\n",
      "Imputing row 13201/15905 with 1 missing, elapsed time: 77.624\n",
      "Imputing row 13301/15905 with 0 missing, elapsed time: 77.629\n",
      "Imputing row 13401/15905 with 0 missing, elapsed time: 77.635\n",
      "Imputing row 13501/15905 with 0 missing, elapsed time: 77.638\n",
      "Imputing row 13601/15905 with 0 missing, elapsed time: 77.643\n",
      "Imputing row 13701/15905 with 0 missing, elapsed time: 77.646\n",
      "Imputing row 13801/15905 with 0 missing, elapsed time: 77.651\n",
      "Imputing row 13901/15905 with 1 missing, elapsed time: 77.655\n",
      "Imputing row 14001/15905 with 0 missing, elapsed time: 77.658\n",
      "Imputing row 14101/15905 with 0 missing, elapsed time: 77.662\n",
      "Imputing row 14201/15905 with 0 missing, elapsed time: 77.666\n",
      "Imputing row 14301/15905 with 0 missing, elapsed time: 77.670\n",
      "Imputing row 14401/15905 with 0 missing, elapsed time: 77.674\n",
      "Imputing row 14501/15905 with 0 missing, elapsed time: 77.677\n",
      "Imputing row 14601/15905 with 0 missing, elapsed time: 77.680\n",
      "Imputing row 14701/15905 with 0 missing, elapsed time: 77.683\n",
      "Imputing row 14801/15905 with 0 missing, elapsed time: 77.686\n",
      "Imputing row 14901/15905 with 0 missing, elapsed time: 77.690\n",
      "Imputing row 15001/15905 with 0 missing, elapsed time: 77.693\n",
      "Imputing row 15101/15905 with 0 missing, elapsed time: 77.696\n",
      "Imputing row 15201/15905 with 0 missing, elapsed time: 77.699\n",
      "Imputing row 15301/15905 with 0 missing, elapsed time: 77.703\n",
      "Imputing row 15401/15905 with 0 missing, elapsed time: 77.707\n",
      "Imputing row 15501/15905 with 1 missing, elapsed time: 77.710\n",
      "Imputing row 15601/15905 with 0 missing, elapsed time: 77.713\n",
      "Imputing row 15701/15905 with 0 missing, elapsed time: 77.717\n",
      "Imputing row 15801/15905 with 0 missing, elapsed time: 77.722\n",
      "Imputing row 15901/15905 with 0 missing, elapsed time: 77.726\n"
     ]
    },
    {
     "data": {
      "text/plain": [
       "0"
      ]
     },
     "execution_count": 47,
     "metadata": {},
     "output_type": "execute_result"
    }
   ],
   "source": [
    "# Imputing missing values with KNN\n",
    "cab_data = pd.DataFrame(KNN(k = 3).fit_transform(cab_data), columns = cab_data.columns)\n",
    "# Checking if there is any missing value\n",
    "cab_data.isnull().sum().sum()"
   ]
  },
  {
   "cell_type": "code",
   "execution_count": 48,
   "metadata": {},
   "outputs": [
    {
     "data": {
      "text/plain": [
       "(15905, 8)"
      ]
     },
     "execution_count": 48,
     "metadata": {},
     "output_type": "execute_result"
    }
   ],
   "source": [
    "#To ensure if the outliers are removed\n",
    "cab_data.describe()\n",
    "cab_data.shape"
   ]
  },
  {
   "cell_type": "code",
   "execution_count": 49,
   "metadata": {},
   "outputs": [
    {
     "data": {
      "image/png": "[encoded data removed]",
      "text/plain": [
       "<Figure size 1080x504 with 1 Axes>"
      ]
     },
     "metadata": {},
     "output_type": "display_data"
    }
   ],
   "source": [
    "#Relationship between distance_travelled and fare_amount \n",
    "plt.figure(figsize=(15,7))\n",
    "plt.scatter(x = cab_data['distance_travelled'],y = cab_data['fare_amount'],c = \"g\")\n",
    "plt.xlabel('Distance_travelled')\n",
    "plt.ylabel('Fare_amount')\n",
    "plt.show()"
   ]
  },
  {
   "cell_type": "markdown",
   "metadata": {},
   "source": [
    "Now `cab_data` is free from missing values, outliers with shape as (15905, 8). Let's proceed for Feature Selection, Feature Scaling and developing ML alogorithms on our training dataset."
   ]
  },
  {
   "cell_type": "markdown",
   "metadata": {},
   "source": [
    "## Feature Selection\n",
    "To check for the multicollinearity for continuous variables by plotting correlation plot and remove the\n",
    "variables with r > 0.8"
   ]
  },
  {
   "cell_type": "code",
   "execution_count": 50,
   "metadata": {},
   "outputs": [
    {
     "data": {
      "text/plain": [
       "[Text(0.5, 0, 'passenger_count'),\n",
       " Text(1.5, 0, 'year'),\n",
       " Text(2.5, 0, 'Date'),\n",
       " Text(3.5, 0, 'Hour'),\n",
       " Text(4.5, 0, 'fare_amount'),\n",
       " Text(5.5, 0, 'distance_travelled')]"
      ]
     },
     "execution_count": 50,
     "metadata": {},
     "output_type": "execute_result"
    },
    {
     "data": {
      "image/png": "[encoded data removed]",
      "text/plain": [
       "<Figure size 720x720 with 2 Axes>"
      ]
     },
     "metadata": {},
     "output_type": "display_data"
    }
   ],
   "source": [
    "#Correlation analysis for continuous variables\n",
    "#Let's store all the numeric data into an object\n",
    "numeric_data = cab_data.loc[:,cont_var]\n",
    "#Set the measurements of the plot, let's say width = 10 and height = 10\n",
    "a , k = plt.subplots(figsize=(10,10))\n",
    "#Correlation matrix\n",
    "corr_matrix = numeric_data.corr()\n",
    "#Plotting a correlation graph\n",
    "ax = sns.heatmap(corr_matrix, vmin=-1, vmax=1, center=0, cmap=sns.diverging_palette(10, 220, n=200),\n",
    "square=True, annot = True)\n",
    "ax.set_xticklabels(ax.get_xticklabels(), rotation=45,horizontalalignment='right')"
   ]
  },
  {
   "cell_type": "code",
   "execution_count": 51,
   "metadata": {},
   "outputs": [
    {
     "name": "stdout",
     "output_type": "stream",
     "text": [
      "(15905, 25)\n",
      "(9914, 24)\n"
     ]
    }
   ],
   "source": [
    "#Let's create dummy variables for categorical variables\n",
    "#Get dummy variables for categorical variables\n",
    "cab_data = pd.get_dummies(cab_data, columns = cat_var)\n",
    "cab_test = pd.get_dummies(cab_test, columns = cat_var)\n",
    "print(cab_data.shape)\n",
    "print(cab_test.shape)"
   ]
  },
  {
   "cell_type": "markdown",
   "metadata": {},
   "source": [
    "## Model development\n",
    "We've performed all the Preprocessing techniques for our data. Our next step is to divide the data into train\n",
    "and test, build a model upon the train data and evaluate on the test data. Then finally choose one ML model to validate on our actual test data and predict the values of `fare_amount`"
   ]
  },
  {
   "cell_type": "code",
   "execution_count": 52,
   "metadata": {},
   "outputs": [],
   "source": [
    "#Splitting into train and test data\n",
    "from sklearn.model_selection import train_test_split\n",
    "X_train,X_test,y_train,y_test = train_test_split(cab_data.iloc[:,cab_data.columns != 'fare_amount'],\n",
    "cab_data.iloc[:, 0], test_size = 0.20, random_state = 1)"
   ]
  },
  {
   "cell_type": "code",
   "execution_count": 53,
   "metadata": {},
   "outputs": [
    {
     "name": "stdout",
     "output_type": "stream",
     "text": [
      "Root Mean Squared error :- 3.2439912807373465\n",
      "R-Squared value :- 0.3646367994234325\n",
      "Mean Absolute Percentage Error :- 26.610288661061137\n"
     ]
    }
   ],
   "source": [
    "#Building the model using linear regression\n",
    "#Importing the necessary libraries for Linear Regression\n",
    "from sklearn.linear_model import LinearRegression\n",
    "from sklearn.metrics import mean_squared_error\n",
    "#Build a model on our training dataset\n",
    "lr_model = LinearRegression().fit(X_train,y_train)\n",
    "#Predict for the test cases\n",
    "lr_predictions = lr_model.predict(X_test)\n",
    "#To create a dataframe for both actual and predicted values\n",
    "cabdata_lrmodel = pd.DataFrame({\"Actual\" : y_test, \"Predicted\" : lr_predictions})\n",
    "\n",
    "#Function to find RMSE\n",
    "def RMSE(x,y):\n",
    "    rmse = np.sqrt(mean_squared_error(x,y))\n",
    "    return rmse\n",
    "\n",
    "#Function to find MAPE\n",
    "def MAPE(true,predict):\n",
    "    mape = np.mean(np.abs((true - predict) / true)) * 100\n",
    "    return mape\n",
    "\n",
    "#Calculate RMSE, MAPE and R-Squared value for this model\n",
    "\n",
    "print(\"Root Mean Squared error :- \" + str(RMSE(y_test,lr_predictions)))\n",
    "print(\"R-Squared value :- \" + str(r2_score(y_test,lr_predictions)))\n",
    "print(\"Mean Absolute Percentage Error :- \" + str(MAPE(y_test,lr_predictions)))"
   ]
  },
  {
   "cell_type": "code",
   "execution_count": 54,
   "metadata": {},
   "outputs": [
    {
     "name": "stdout",
     "output_type": "stream",
     "text": [
      "RMSE: 2.630702513439224\n",
      "R_Square score: 0.5821636871780009\n",
      "Mean Absolute Percentage Error :- 23.164666577472058\n"
     ]
    }
   ],
   "source": [
    "#Building the model using Decisison Tree\n",
    "#Importing necessary libraries for Decision tree\n",
    "from sklearn.tree import DecisionTreeRegressor\n",
    "#Build Decision tree model on the train data\n",
    "dt_model = DecisionTreeRegressor(max_depth = 2).fit(X_train,y_train)\n",
    "#Predict for the test cases\n",
    "dt_predict = dt_model.predict(X_test)\n",
    "#Create a dataframe for actual and predicted values\n",
    "df_dtmodel = pd.DataFrame({\"Actual\" : y_test, \"Predicted\" : dt_predict})\n",
    "#Calculate RMSE, MAPE and R_squared value for this model\n",
    "\n",
    "print(\"RMSE: \" + str(RMSE(y_test,dt_predict)))\n",
    "print(\"R_Square score: \" + str(r2_score(y_test,dt_predict)))\n",
    "print(\"Mean Absolute Percentage Error :- \" + str(MAPE(y_test,dt_predict)))"
   ]
  },
  {
   "cell_type": "code",
   "execution_count": 55,
   "metadata": {},
   "outputs": [
    {
     "name": "stdout",
     "output_type": "stream",
     "text": [
      "Root Mean Squared Error: 2.3478613526491965\n",
      "R_square Score: 0.6671813955736665\n",
      "Mean Absolute Percentage Error :- 19.23515165255917\n"
     ]
    }
   ],
   "source": [
    "#Building the model using Randomforest\n",
    "#Import library for RandomForest\n",
    "from sklearn.ensemble import RandomForestRegressor\n",
    "#Build random forest using RandomForestRegressor\n",
    "ranfor_model = RandomForestRegressor(n_estimators = 300, random_state = 1).fit(X_train,y_train)\n",
    "#Perdict for test cases\n",
    "rf_predictions = ranfor_model.predict(X_test)\n",
    "#Create data frame for actual and predicted values\n",
    "df_rf = pd.DataFrame({'Actual': y_test, 'Predicted': rf_predictions})\n",
    "#Calculate RMSE and R-squared value\n",
    "print(\"Root Mean Squared Error: \"+str(RMSE(y_test, rf_predictions)))\n",
    "print(\"R_square Score: \"+str(r2_score(y_test, rf_predictions)))\n",
    "print(\"Mean Absolute Percentage Error :- \" + str(MAPE(y_test,rf_predictions)))"
   ]
  },
  {
   "cell_type": "code",
   "execution_count": 56,
   "metadata": {},
   "outputs": [
    {
     "name": "stdout",
     "output_type": "stream",
     "text": [
      "RMSE: 2.630702513439224\n",
      "R_Square score: 0.6812319510750917\n",
      "Mean Absolute Percentage Error :- 18.700421380160815\n"
     ]
    }
   ],
   "source": [
    "#Building the model using GradientBoosting\n",
    "#Import necessary libraries for this ML algorithm\n",
    "from sklearn.ensemble import GradientBoostingRegressor\n",
    "#Build GB model on the train data\n",
    "gb_model = GradientBoostingRegressor().fit(X_train,y_train)\n",
    "#Predict the test cases\n",
    "gb_predict = gb_model.predict(X_test)\n",
    "#Create a dataframe for actual and predicted values\n",
    "df_gbmodel = pd.DataFrame({\"Actual\" : y_test, \"Predicted\" : gb_predict})\n",
    "#Calculate RMSE and R_squared values\n",
    "print(\"RMSE: \" + str(RMSE(y_test,dt_predict)))\n",
    "print(\"R_Square score: \" + str(r2_score(y_test,gb_predict)))\n",
    "print(\"Mean Absolute Percentage Error :- \" + str(MAPE(y_test,gb_predict)))"
   ]
  },
  {
   "cell_type": "markdown",
   "metadata": {},
   "source": [
    "## Dimension Reduction using Pricipal Component Analysis\n",
    "Principal Component Analysis (PCA) is a dimension-reduction tool that can be used to reduce a large set of\n",
    "variables to a small set that still contains most of the information in the large set."
   ]
  },
  {
   "cell_type": "code",
   "execution_count": 57,
   "metadata": {},
   "outputs": [
    {
     "data": {
      "text/plain": [
       "(15905, 24)"
      ]
     },
     "execution_count": 57,
     "metadata": {},
     "output_type": "execute_result"
    }
   ],
   "source": [
    "#Get the target variable\n",
    "target_var = cab_data['fare_amount']\n",
    "#Get the shape of our cleaned dataset\n",
    "cab_data.shape #(15451, 25)\n",
    "#Importing the library for PCA\n",
    "from sklearn.decomposition import PCA\n",
    "#Dropping the target variable\n",
    "cab_data.drop(['fare_amount'], inplace = True, axis =1)\n",
    "#To check the shape of the data after dropping the target variable\n",
    "cab_data.shape# (15451, 25)"
   ]
  },
  {
   "cell_type": "code",
   "execution_count": 58,
   "metadata": {},
   "outputs": [
    {
     "data": {
      "image/png": "[encoded data removed]",
      "text/plain": [
       "<Figure size 432x288 with 1 Axes>"
      ]
     },
     "metadata": {},
     "output_type": "display_data"
    }
   ],
   "source": [
    "#Converting our data to numpy array\n",
    "numpy_data = cab_data.values\n",
    "#Our data without target variable has 133 variables, so number of components = 24\n",
    "pca = PCA(n_components = 24)\n",
    "pca.fit(numpy_data)\n",
    "#To check the variance that each PC explains\n",
    "var = pca.explained_variance_ratio_\n",
    "#Cumulative variance\n",
    "var_cum = np.cumsum(np.round(var, decimals = 4) * 100)\n",
    "plt.plot(var_cum)\n",
    "plt.show()"
   ]
  },
  {
   "cell_type": "markdown",
   "metadata": {},
   "source": [
    "From the above graph, it is clear that approximately after 7 components, there is no variance even if all the rest\n",
    "of the components are considered. So let's select these 7 components as it explains almost 95 percent of data\n",
    "variance."
   ]
  },
  {
   "cell_type": "code",
   "execution_count": 59,
   "metadata": {},
   "outputs": [],
   "source": [
    "#Selecting the 7 components\n",
    "pca = PCA(n_components = 7)\n",
    "#To fit the selected components to the data\n",
    "pca.fit(numpy_data)\n",
    "#Splitting into train and test data using train_test_split\n",
    "X_train1,X_test1,y_train1,y_test1 = train_test_split(numpy_data,target_var,test_size = 0.2)"
   ]
  },
  {
   "cell_type": "markdown",
   "metadata": {},
   "source": [
    "Now by using the above data let's develop the model on our train data"
   ]
  },
  {
   "cell_type": "code",
   "execution_count": 60,
   "metadata": {},
   "outputs": [
    {
     "name": "stdout",
     "output_type": "stream",
     "text": [
      "Root Mean Squared error :- 3.181328125797752\n",
      "R-Squared score :- 0.38830975176005045\n",
      "Mean Absolute Percentage Error :- inf\n"
     ]
    }
   ],
   "source": [
    "#Building the model using linear regression\n",
    "#Importing the necessary libraries for Linear Regression\n",
    "from sklearn.linear_model import LinearRegression\n",
    "from sklearn.metrics import mean_squared_error\n",
    "#Build a model on our training dataset\n",
    "lr_model = LinearRegression().fit(X_train1,y_train1)\n",
    "#Predict for the test cases\n",
    "lr_predictions = lr_model.predict(X_test1)\n",
    "#To create a dataframe for both actual and predicted values\n",
    "cabdata_lrmodel = pd.DataFrame({\"Actual\" : y_test1, \"Predicted\" : lr_predictions})\n",
    "\n",
    "#Function to find RMSE\n",
    "def RMSE(x,y):\n",
    "    rmse = np.sqrt(mean_squared_error(x,y))\n",
    "    return rmse\n",
    "\n",
    "#Function to find MAPE\n",
    "def MAPE(true,predict):\n",
    "    mape = np.mean(np.abs((true - predict) / true)) * 100\n",
    "    return mape\n",
    "\n",
    "#Calculate RMSE, MAPE and R-Squared value for this model\n",
    "\n",
    "print(\"Root Mean Squared error :- \" + str(RMSE(y_test1,lr_predictions)))\n",
    "print(\"R-Squared score :- \" + str(r2_score(y_test1,lr_predictions)))\n",
    "print(\"Mean Absolute Percentage Error :- \" + str(MAPE(y_test1,lr_predictions)))"
   ]
  },
  {
   "cell_type": "code",
   "execution_count": 61,
   "metadata": {},
   "outputs": [
    {
     "name": "stdout",
     "output_type": "stream",
     "text": [
      "RMSE: 2.6366641934454624\n",
      "R_Square score: 0.5798307460004233\n",
      "Mean Absolute Percentage Error :- inf\n"
     ]
    }
   ],
   "source": [
    "#Building the model using Decisison Tree\n",
    "#Importing necessary libraries for Decision tree\n",
    "from sklearn.tree import DecisionTreeRegressor\n",
    "#Build Decision tree model on the train data\n",
    "dt_model = DecisionTreeRegressor(max_depth = 2).fit(X_train1,y_train1)\n",
    "#Predict for the test cases\n",
    "dt_predict = dt_model.predict(X_test1)\n",
    "#Create a dataframe for actual and predicted values\n",
    "df_dtmodel = pd.DataFrame({\"Actual\" : y_test1, \"Predicted\" : dt_predict})\n",
    "#Calculate RMSE, MAPE and R_squared value for this model\n",
    "\n",
    "print(\"RMSE: \" + str(RMSE(y_test1,dt_predict)))\n",
    "print(\"R_Square score: \" + str(r2_score(y_test1,dt_predict)))\n",
    "print(\"Mean Absolute Percentage Error :- \" + str(MAPE(y_test1,dt_predict)))"
   ]
  },
  {
   "cell_type": "code",
   "execution_count": 62,
   "metadata": {},
   "outputs": [
    {
     "name": "stdout",
     "output_type": "stream",
     "text": [
      "Root Mean Squared Error: 2.3083096540441312\n",
      "R_square Score: 0.6779652316471204\n",
      "Mean Absolute Percentage Error :- inf\n"
     ]
    }
   ],
   "source": [
    "#Building the model using Randomforest\n",
    "#Import library for RandomForest\n",
    "from sklearn.ensemble import RandomForestRegressor\n",
    "#Build random forest using RandomForestRegressor\n",
    "rf_model = RandomForestRegressor(n_estimators = 300, random_state = 1).fit(X_train1,y_train1)\n",
    "#Perdict for test cases\n",
    "rf_predictions = rf_model.predict(X_test1)\n",
    "#Create data frame for actual and predicted values\n",
    "df_rf = pd.DataFrame({'Actual': y_test1, 'Predicted': rf_predictions})\n",
    "#Calculate RMSE and R-squared value\n",
    "print(\"Root Mean Squared Error: \"+str(RMSE(y_test1, rf_predictions)))\n",
    "print(\"R_square Score: \"+str(r2_score(y_test1, rf_predictions)))\n",
    "print(\"Mean Absolute Percentage Error :- \" + str(MAPE(y_test1,rf_predictions)))"
   ]
  },
  {
   "cell_type": "code",
   "execution_count": 63,
   "metadata": {},
   "outputs": [
    {
     "name": "stdout",
     "output_type": "stream",
     "text": [
      "RMSE: 2.6366641934454624\n",
      "R_Square score: 0.6898300778943877\n",
      "Mean Absolute Percentage Error :- inf\n"
     ]
    }
   ],
   "source": [
    "#Building the model using GradientBoosting\n",
    "#Import necessary libraries for this ML algorithm\n",
    "from sklearn.ensemble import GradientBoostingRegressor\n",
    "#Build GB model on the train data\n",
    "gb_model = GradientBoostingRegressor().fit(X_train1,y_train1)\n",
    "#Predict the test cases\n",
    "gb_predict = gb_model.predict(X_test1)\n",
    "#Create a dataframe for actual and predicted values\n",
    "df_gbmodel = pd.DataFrame({\"Actual\" : y_test1, \"Predicted\" : gb_predict})\n",
    "#Calculate RMSE and R_squared values\n",
    "print(\"RMSE: \" + str(RMSE(y_test1,dt_predict)))\n",
    "print(\"R_Square score: \" + str(r2_score(y_test1,gb_predict)))\n",
    "print(\"Mean Absolute Percentage Error :- \" + str(MAPE(y_test1,gb_predict)))"
   ]
  },
  {
   "cell_type": "markdown",
   "metadata": {},
   "source": [
    "So we have finally decided that RandomForest has predicted the least RMSE indicating the best fit. So let's predict our cleaned test data using Randomforest Regressor."
   ]
  },
  {
   "cell_type": "code",
   "execution_count": 64,
   "metadata": {},
   "outputs": [],
   "source": [
    "#Building the model using Randomforest\n",
    "#Import library for RandomForest\n",
    "from sklearn.ensemble import RandomForestRegressor\n",
    "#Build random forest using RandomForestRegressor\n",
    "rf_predictions_test = rf_model.predict(cab_test)\n",
    "#Create a new variable to the test dataset\n",
    "cab_test['Predicted_Fare'] = rf_predictions_test"
   ]
  },
  {
   "cell_type": "code",
   "execution_count": 65,
   "metadata": {},
   "outputs": [
    {
     "data": {
      "text/html": [
       "<div>\n",
       "<style scoped>\n",
       "    .dataframe tbody tr th:only-of-type {\n",
       "        vertical-align: middle;\n",
       "    }\n",
       "\n",
       "    .dataframe tbody tr th {\n",
       "        vertical-align: top;\n",
       "    }\n",
       "\n",
       "    .dataframe thead th {\n",
       "        text-align: right;\n",
       "    }\n",
       "</style>\n",
       "<table border=\"1\" class=\"dataframe\">\n",
       "  <thead>\n",
       "    <tr style=\"text-align: right;\">\n",
       "      <th></th>\n",
       "      <th>passenger_count</th>\n",
       "      <th>year</th>\n",
       "      <th>Date</th>\n",
       "      <th>Hour</th>\n",
       "      <th>distance_travelled</th>\n",
       "      <th>Month_1.0</th>\n",
       "      <th>Month_2.0</th>\n",
       "      <th>Month_3.0</th>\n",
       "      <th>Month_4.0</th>\n",
       "      <th>Month_5.0</th>\n",
       "      <th>...</th>\n",
       "      <th>Month_11.0</th>\n",
       "      <th>Month_12.0</th>\n",
       "      <th>Day_0.0</th>\n",
       "      <th>Day_1.0</th>\n",
       "      <th>Day_2.0</th>\n",
       "      <th>Day_3.0</th>\n",
       "      <th>Day_4.0</th>\n",
       "      <th>Day_5.0</th>\n",
       "      <th>Day_6.0</th>\n",
       "      <th>Predicted_Fare</th>\n",
       "    </tr>\n",
       "  </thead>\n",
       "  <tbody>\n",
       "    <tr>\n",
       "      <th>0</th>\n",
       "      <td>0.0</td>\n",
       "      <td>2015.0</td>\n",
       "      <td>27.0</td>\n",
       "      <td>13.0</td>\n",
       "      <td>1.200263</td>\n",
       "      <td>1</td>\n",
       "      <td>0</td>\n",
       "      <td>0</td>\n",
       "      <td>0</td>\n",
       "      <td>0</td>\n",
       "      <td>...</td>\n",
       "      <td>0</td>\n",
       "      <td>0</td>\n",
       "      <td>0</td>\n",
       "      <td>1</td>\n",
       "      <td>0</td>\n",
       "      <td>0</td>\n",
       "      <td>0</td>\n",
       "      <td>0</td>\n",
       "      <td>0</td>\n",
       "      <td>11.641667</td>\n",
       "    </tr>\n",
       "    <tr>\n",
       "      <th>1</th>\n",
       "      <td>0.0</td>\n",
       "      <td>2015.0</td>\n",
       "      <td>27.0</td>\n",
       "      <td>13.0</td>\n",
       "      <td>1.230751</td>\n",
       "      <td>1</td>\n",
       "      <td>0</td>\n",
       "      <td>0</td>\n",
       "      <td>0</td>\n",
       "      <td>0</td>\n",
       "      <td>...</td>\n",
       "      <td>0</td>\n",
       "      <td>0</td>\n",
       "      <td>0</td>\n",
       "      <td>1</td>\n",
       "      <td>0</td>\n",
       "      <td>0</td>\n",
       "      <td>0</td>\n",
       "      <td>0</td>\n",
       "      <td>0</td>\n",
       "      <td>11.656333</td>\n",
       "    </tr>\n",
       "    <tr>\n",
       "      <th>2</th>\n",
       "      <td>0.0</td>\n",
       "      <td>2011.0</td>\n",
       "      <td>8.0</td>\n",
       "      <td>11.0</td>\n",
       "      <td>0.481303</td>\n",
       "      <td>0</td>\n",
       "      <td>0</td>\n",
       "      <td>0</td>\n",
       "      <td>0</td>\n",
       "      <td>0</td>\n",
       "      <td>...</td>\n",
       "      <td>0</td>\n",
       "      <td>0</td>\n",
       "      <td>0</td>\n",
       "      <td>0</td>\n",
       "      <td>0</td>\n",
       "      <td>0</td>\n",
       "      <td>0</td>\n",
       "      <td>1</td>\n",
       "      <td>0</td>\n",
       "      <td>4.387864</td>\n",
       "    </tr>\n",
       "    <tr>\n",
       "      <th>3</th>\n",
       "      <td>0.0</td>\n",
       "      <td>2012.0</td>\n",
       "      <td>1.0</td>\n",
       "      <td>21.0</td>\n",
       "      <td>1.085078</td>\n",
       "      <td>0</td>\n",
       "      <td>0</td>\n",
       "      <td>0</td>\n",
       "      <td>0</td>\n",
       "      <td>0</td>\n",
       "      <td>...</td>\n",
       "      <td>0</td>\n",
       "      <td>1</td>\n",
       "      <td>0</td>\n",
       "      <td>0</td>\n",
       "      <td>0</td>\n",
       "      <td>0</td>\n",
       "      <td>0</td>\n",
       "      <td>1</td>\n",
       "      <td>0</td>\n",
       "      <td>8.589667</td>\n",
       "    </tr>\n",
       "    <tr>\n",
       "      <th>4</th>\n",
       "      <td>0.0</td>\n",
       "      <td>2012.0</td>\n",
       "      <td>1.0</td>\n",
       "      <td>21.0</td>\n",
       "      <td>1.853612</td>\n",
       "      <td>0</td>\n",
       "      <td>0</td>\n",
       "      <td>0</td>\n",
       "      <td>0</td>\n",
       "      <td>0</td>\n",
       "      <td>...</td>\n",
       "      <td>0</td>\n",
       "      <td>1</td>\n",
       "      <td>0</td>\n",
       "      <td>0</td>\n",
       "      <td>0</td>\n",
       "      <td>0</td>\n",
       "      <td>0</td>\n",
       "      <td>1</td>\n",
       "      <td>0</td>\n",
       "      <td>16.316506</td>\n",
       "    </tr>\n",
       "  </tbody>\n",
       "</table>\n",
       "<p>5 rows × 25 columns</p>\n",
       "</div>"
      ],
      "text/plain": [
       "   passenger_count    year  Date  Hour  distance_travelled  Month_1.0  \\\n",
       "0              0.0  2015.0  27.0  13.0            1.200263          1   \n",
       "1              0.0  2015.0  27.0  13.0            1.230751          1   \n",
       "2              0.0  2011.0   8.0  11.0            0.481303          0   \n",
       "3              0.0  2012.0   1.0  21.0            1.085078          0   \n",
       "4              0.0  2012.0   1.0  21.0            1.853612          0   \n",
       "\n",
       "   Month_2.0  Month_3.0  Month_4.0  Month_5.0  ...  Month_11.0  Month_12.0  \\\n",
       "0          0          0          0          0  ...           0           0   \n",
       "1          0          0          0          0  ...           0           0   \n",
       "2          0          0          0          0  ...           0           0   \n",
       "3          0          0          0          0  ...           0           1   \n",
       "4          0          0          0          0  ...           0           1   \n",
       "\n",
       "   Day_0.0  Day_1.0  Day_2.0  Day_3.0  Day_4.0  Day_5.0  Day_6.0  \\\n",
       "0        0        1        0        0        0        0        0   \n",
       "1        0        1        0        0        0        0        0   \n",
       "2        0        0        0        0        0        1        0   \n",
       "3        0        0        0        0        0        1        0   \n",
       "4        0        0        0        0        0        1        0   \n",
       "\n",
       "   Predicted_Fare  \n",
       "0       11.641667  \n",
       "1       11.656333  \n",
       "2        4.387864  \n",
       "3        8.589667  \n",
       "4       16.316506  \n",
       "\n",
       "[5 rows x 25 columns]"
      ]
     },
     "execution_count": 65,
     "metadata": {},
     "output_type": "execute_result"
    }
   ],
   "source": [
    "cab_test.head()"
   ]
  },
  {
   "cell_type": "code",
   "execution_count": 66,
   "metadata": {},
   "outputs": [
    {
     "data": {
      "text/plain": [
       "passenger_count       0\n",
       "year                  0\n",
       "Date                  0\n",
       "Hour                  0\n",
       "distance_travelled    0\n",
       "Month_1.0             0\n",
       "Month_2.0             0\n",
       "Month_3.0             0\n",
       "Month_4.0             0\n",
       "Month_5.0             0\n",
       "Month_6.0             0\n",
       "Month_7.0             0\n",
       "Month_8.0             0\n",
       "Month_9.0             0\n",
       "Month_10.0            0\n",
       "Month_11.0            0\n",
       "Month_12.0            0\n",
       "Day_0.0               0\n",
       "Day_1.0               0\n",
       "Day_2.0               0\n",
       "Day_3.0               0\n",
       "Day_4.0               0\n",
       "Day_5.0               0\n",
       "Day_6.0               0\n",
       "Predicted_Fare        0\n",
       "dtype: int64"
      ]
     },
     "execution_count": 66,
     "metadata": {},
     "output_type": "execute_result"
    }
   ],
   "source": [
    "cab_test.isna().sum()"
   ]
  },
  {
   "cell_type": "code",
   "execution_count": 67,
   "metadata": {},
   "outputs": [],
   "source": [
    "cab_test.to_csv(\"Predicted_testdata.csv\")"
   ]
  }
 ],
 "metadata": {
  "kernelspec": {
   "display_name": "Python 3",
   "language": "python",
   "name": "python3"
  },
  "language_info": {
   "codemirror_mode": {
    "name": "ipython",
    "version": 3
   },
   "file_extension": ".py",
   "mimetype": "text/x-python",
   "name": "python",
   "nbconvert_exporter": "python",
   "pygments_lexer": "ipython3",
   "version": "3.7.3"
  }
 },
 "nbformat": 4,
 "nbformat_minor": 2
}
